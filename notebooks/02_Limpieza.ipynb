{
 "cells": [
  {
   "cell_type": "markdown",
   "metadata": {},
   "source": [
    "# Limpieza de Datos"
   ]
  },
  {
   "cell_type": "code",
   "execution_count": 1,
   "metadata": {},
   "outputs": [],
   "source": [
    "# Librerías\n",
    "import cv2 as cv\n",
    "import pandas as pd\n",
    "import numpy as np\n",
    "from imutils import paths"
   ]
  },
  {
   "cell_type": "code",
   "execution_count": 59,
   "metadata": {},
   "outputs": [],
   "source": [
    "#Data\n",
    "img_paths_train1= list(paths.list_images('./data/train/true'))\n",
    "img_paths_train0= list(paths.list_images('./data/train/false'))\n",
    "img_paths_test1= list(paths.list_images('./data/test/true'))\n",
    "img_paths_test0= list(paths.list_images('./data/test/false'))"
   ]
  },
  {
   "cell_type": "code",
   "execution_count": 60,
   "metadata": {},
   "outputs": [],
   "source": [
    "#Crear etiquetas\n",
    "train_imgs = img_paths_train1 + img_paths_train0\n",
    "train_labels = [1] * len(img_paths_train1) + [0] * len(img_paths_train0)\n",
    "\n",
    "test_imgs = img_paths_test1 + img_paths_test0\n",
    "test_labels = [1] * len(img_paths_test1) + [0] * len(img_paths_test0)\n"
   ]
  },
  {
   "cell_type": "code",
   "execution_count": 61,
   "metadata": {},
   "outputs": [],
   "source": [
    "#Crear DataFrames\n",
    "train_df = pd.DataFrame({\n",
    "    'image_name': train_imgs,\n",
    "    'label': train_labels\n",
    "})\n",
    "\n",
    "test_df = pd.DataFrame({\n",
    "    'image_name': test_imgs,\n",
    "    'label': test_labels\n",
    "})"
   ]
  },
  {
   "cell_type": "code",
   "execution_count": 62,
   "metadata": {},
   "outputs": [
    {
     "data": {
      "text/plain": [
       "label\n",
       "1    0.5\n",
       "0    0.5\n",
       "Name: proportion, dtype: float64"
      ]
     },
     "execution_count": 62,
     "metadata": {},
     "output_type": "execute_result"
    }
   ],
   "source": [
    "#Validar que hay misma cantidad de pasos positivos que negativos en el Train\n",
    "train_df['label'].value_counts(normalize= True)"
   ]
  },
  {
   "cell_type": "code",
   "execution_count": 63,
   "metadata": {},
   "outputs": [
    {
     "data": {
      "text/plain": [
       "label\n",
       "1    0.5\n",
       "0    0.5\n",
       "Name: proportion, dtype: float64"
      ]
     },
     "execution_count": 63,
     "metadata": {},
     "output_type": "execute_result"
    }
   ],
   "source": [
    "#Validar que hay misma cantidad de pasos positivos que negativos en el Test\n",
    "test_df['label'].value_counts(normalize =  True)"
   ]
  },
  {
   "cell_type": "code",
   "execution_count": 64,
   "metadata": {},
   "outputs": [],
   "source": [
    "#Función para cargar y preprocesar imágenes\n",
    "def limpiar_img(img_path):\n",
    "    img = cv.imread(img_path, cv.IMREAD_GRAYSCALE) \n",
    "    img = cv.resize(img, (32, 32))\n",
    "    img = img.astype(np.uint8)  \n",
    "    img = cv.equalizeHist(img) \n",
    "    img = np.expand_dims(img, axis=-1) \n",
    "    img = img / 255.0  \n",
    "    return img"
   ]
  },
  {
   "cell_type": "code",
   "execution_count": 65,
   "metadata": {},
   "outputs": [],
   "source": [
    "#Crear Train y Test junto a sus labels en y\n",
    "X_train = np.array([limpiar_img(img) for img in train_imgs])\n",
    "y_train = np.array(train_labels)\n",
    "\n",
    "X_test = np.array([limpiar_img(img) for img in test_imgs])\n",
    "y_test = np.array(test_labels)"
   ]
  },
  {
   "cell_type": "markdown",
   "metadata": {},
   "source": [
    "# limpiar pero guardarlos limpios en data"
   ]
  },
  {
   "cell_type": "markdown",
   "metadata": {},
   "source": []
  }
 ],
 "metadata": {
  "kernelspec": {
   "display_name": "Python 3",
   "language": "python",
   "name": "python3"
  },
  "language_info": {
   "codemirror_mode": {
    "name": "ipython",
    "version": 3
   },
   "file_extension": ".py",
   "mimetype": "text/x-python",
   "name": "python",
   "nbconvert_exporter": "python",
   "pygments_lexer": "ipython3",
   "version": "3.10.11"
  }
 },
 "nbformat": 4,
 "nbformat_minor": 2
}
