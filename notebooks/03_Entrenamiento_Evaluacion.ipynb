{
 "cells": [
  {
   "cell_type": "markdown",
   "metadata": {},
   "source": [
    "# **Entrenamiento y Evaluación de Modelos** 🫀"
   ]
  },
  {
   "cell_type": "markdown",
   "metadata": {},
   "source": [
    "## Preparación\n",
    "Los modelos tienen diferentes maneras de limpiar los datos, pero la limpieza oficial es del modelo final (modelo4)"
   ]
  },
  {
   "cell_type": "code",
   "execution_count": 16,
   "metadata": {},
   "outputs": [],
   "source": [
    "# Librerías\n",
    "import cv2 as cv\n",
    "import pandas as pd\n",
    "import numpy as np\n",
    "import matplotlib.pyplot as plt\n",
    "from matplotlib.image import imread\n",
    "import seaborn as sns\n",
    "import os\n",
    "import tensorflow as tf\n",
    "import random\n",
    "from tensorflow.keras.preprocessing.image import ImageDataGenerator\n",
    "from imutils import paths\n",
    "from sklearn.model_selection import train_test_split\n",
    "from tensorflow.keras.models import Sequential\n",
    "from tensorflow.keras.layers import Conv2D, MaxPooling2D, Flatten, Dense, Dropout, BatchNormalization\n",
    "from tensorflow.keras.optimizers import Adam\n",
    "from sklearn.cluster import KMeans\n",
    "from sklearn.metrics import silhouette_score\n",
    "import pickle"
   ]
  },
  {
   "cell_type": "code",
   "execution_count": 17,
   "metadata": {},
   "outputs": [],
   "source": [
    "#Ubicación Dataset\n",
    "img_paths_train1= list(paths.list_images('../data/raw/train/true'))\n",
    "img_paths_train0= list(paths.list_images('../data/raw/train/false'))\n",
    "img_paths_test1= list(paths.list_images('../data/raw/test/true'))\n",
    "img_paths_test0= list(paths.list_images('../data/raw/test/false'))"
   ]
  },
  {
   "cell_type": "code",
   "execution_count": 18,
   "metadata": {},
   "outputs": [],
   "source": [
    "#Crear etiquetas\n",
    "train_imgs = img_paths_train1 + img_paths_train0\n",
    "train_labels = [1] * len(img_paths_train1) + [0] * len(img_paths_train0)\n",
    "\n",
    "test_imgs = img_paths_test1 + img_paths_test0\n",
    "test_labels = [1] * len(img_paths_test1) + [0] * len(img_paths_test0)"
   ]
  },
  {
   "cell_type": "code",
   "execution_count": 19,
   "metadata": {},
   "outputs": [],
   "source": [
    "#Crear DataFrames\n",
    "train_df = pd.DataFrame({\n",
    "    'image_name': train_imgs,\n",
    "    'label': train_labels\n",
    "})\n",
    "\n",
    "test_df = pd.DataFrame({\n",
    "    'image_name': test_imgs,\n",
    "    'label': test_labels\n",
    "})"
   ]
  },
  {
   "cell_type": "markdown",
   "metadata": {},
   "source": [
    "## Modelos"
   ]
  },
  {
   "cell_type": "markdown",
   "metadata": {},
   "source": [
    "### 📌 Modelo 1"
   ]
  },
  {
   "cell_type": "code",
   "execution_count": 12,
   "metadata": {},
   "outputs": [],
   "source": [
    "#Función de carga y limpieza\n",
    "def limpiar_img1(path):  \n",
    "    img = cv.imread(path, cv.IMREAD_GRAYSCALE) #poner gris\n",
    "    img = cv.resize(img, (32,32)) #todas iguales\n",
    "    img = np.expand_dims(img, axis= -1) # expandir dimensiones para que sea compatible con CNN\n",
    "    return img\n"
   ]
  },
  {
   "cell_type": "code",
   "execution_count": 13,
   "metadata": {},
   "outputs": [],
   "source": [
    "#Preprocesar todas las imgs, dividir Xtrain/Xtest \n",
    "X_train1 = np.array([limpiar_img1(img) for img in train_imgs])\n",
    "y_train1 = np.array(train_labels)\n",
    "\n",
    "X_test1 = np.array([limpiar_img1(img) for img in test_imgs])\n",
    "y_test1 = np.array(test_labels)"
   ]
  },
  {
   "cell_type": "code",
   "execution_count": 14,
   "metadata": {},
   "outputs": [],
   "source": [
    "#Modelo\n",
    "modelo1 = Sequential([\n",
    "    Conv2D(32, (3, 3), activation='relu', input_shape=(32, 32, 1)),\n",
    "    MaxPooling2D((2, 2)),# reduce dimensionalidad de capa(2,2 o sea a la mitad)\n",
    "    Conv2D(64, (3, 3), activation='relu'),\n",
    "    MaxPooling2D((2, 2)),\n",
    "    Flatten(), #aplana a una sola dim\n",
    "    Dense(128, activation='relu'),\n",
    "    Dropout(0.5), #regularizacion\n",
    "    Dense(1, activation='sigmoid')\n",
    "])\n",
    "\n",
    "#Compilación del modelo\n",
    "modelo1.compile(optimizer=Adam(learning_rate=0.001), loss='binary_crossentropy', metrics=['accuracy'])"
   ]
  },
  {
   "cell_type": "code",
   "execution_count": 15,
   "metadata": {},
   "outputs": [
    {
     "name": "stdout",
     "output_type": "stream",
     "text": [
      "Epoch 1/10\n",
      "\u001b[1m139/139\u001b[0m \u001b[32m━━━━━━━━━━━━━━━━━━━━\u001b[0m\u001b[37m\u001b[0m \u001b[1m3s\u001b[0m 16ms/step - accuracy: 0.5101 - loss: 8.1851 - val_accuracy: 0.5727 - val_loss: 0.6681\n",
      "Epoch 2/10\n",
      "\u001b[1m139/139\u001b[0m \u001b[32m━━━━━━━━━━━━━━━━━━━━\u001b[0m\u001b[37m\u001b[0m \u001b[1m1s\u001b[0m 9ms/step - accuracy: 0.5680 - loss: 0.6838 - val_accuracy: 0.5925 - val_loss: 0.6579\n",
      "Epoch 3/10\n",
      "\u001b[1m139/139\u001b[0m \u001b[32m━━━━━━━━━━━━━━━━━━━━\u001b[0m\u001b[37m\u001b[0m \u001b[1m1s\u001b[0m 9ms/step - accuracy: 0.5832 - loss: 0.6683 - val_accuracy: 0.5386 - val_loss: 0.6906\n",
      "Epoch 4/10\n",
      "\u001b[1m139/139\u001b[0m \u001b[32m━━━━━━━━━━━━━━━━━━━━\u001b[0m\u001b[37m\u001b[0m \u001b[1m1s\u001b[0m 10ms/step - accuracy: 0.5881 - loss: 0.6627 - val_accuracy: 0.5987 - val_loss: 0.6480\n",
      "Epoch 5/10\n",
      "\u001b[1m139/139\u001b[0m \u001b[32m━━━━━━━━━━━━━━━━━━━━\u001b[0m\u001b[37m\u001b[0m \u001b[1m1s\u001b[0m 10ms/step - accuracy: 0.5859 - loss: 0.6569 - val_accuracy: 0.6194 - val_loss: 0.6246\n",
      "Epoch 6/10\n",
      "\u001b[1m139/139\u001b[0m \u001b[32m━━━━━━━━━━━━━━━━━━━━\u001b[0m\u001b[37m\u001b[0m \u001b[1m1s\u001b[0m 8ms/step - accuracy: 0.6480 - loss: 0.6211 - val_accuracy: 0.6732 - val_loss: 0.6090\n",
      "Epoch 7/10\n",
      "\u001b[1m139/139\u001b[0m \u001b[32m━━━━━━━━━━━━━━━━━━━━\u001b[0m\u001b[37m\u001b[0m \u001b[1m1s\u001b[0m 10ms/step - accuracy: 0.6637 - loss: 0.6052 - val_accuracy: 0.6984 - val_loss: 0.5887\n",
      "Epoch 8/10\n",
      "\u001b[1m139/139\u001b[0m \u001b[32m━━━━━━━━━━━━━━━━━━━━\u001b[0m\u001b[37m\u001b[0m \u001b[1m2s\u001b[0m 14ms/step - accuracy: 0.6927 - loss: 0.5837 - val_accuracy: 0.6670 - val_loss: 0.6025\n",
      "Epoch 9/10\n",
      "\u001b[1m139/139\u001b[0m \u001b[32m━━━━━━━━━━━━━━━━━━━━\u001b[0m\u001b[37m\u001b[0m \u001b[1m1s\u001b[0m 9ms/step - accuracy: 0.6960 - loss: 0.5650 - val_accuracy: 0.7289 - val_loss: 0.5454\n",
      "Epoch 10/10\n",
      "\u001b[1m139/139\u001b[0m \u001b[32m━━━━━━━━━━━━━━━━━━━━\u001b[0m\u001b[37m\u001b[0m \u001b[1m1s\u001b[0m 9ms/step - accuracy: 0.7199 - loss: 0.5479 - val_accuracy: 0.7154 - val_loss: 0.5479\n"
     ]
    }
   ],
   "source": [
    "#Entrenamiento del modelo\n",
    "history1 = modelo1.fit(X_train1, y_train1, epochs=10, validation_data=(X_test1, y_test1))\n"
   ]
  },
  {
   "cell_type": "code",
   "execution_count": 17,
   "metadata": {},
   "outputs": [
    {
     "name": "stdout",
     "output_type": "stream",
     "text": [
      "\u001b[1m35/35\u001b[0m \u001b[32m━━━━━━━━━━━━━━━━━━━━\u001b[0m\u001b[37m\u001b[0m \u001b[1m0s\u001b[0m 4ms/step\n",
      "Accuracy score: 0.715\n",
      "Recall score: 0.747\n",
      "AUC-ROC score: 0.79\n"
     ]
    }
   ],
   "source": [
    "from sklearn.metrics import accuracy_score,recall_score,roc_auc_score\n",
    "\n",
    "y_pred_proba1 = modelo1.predict(X_test1)\n",
    "y_pred1 = (y_pred_proba1 > 0.5).astype(int)  # Convertir probabilidades a etiquetas binarias (0 o 1)\n",
    "\n",
    "\n",
    "accuracy1 = accuracy_score(y_test1, y_pred1)\n",
    "recall1 = recall_score(y_test1, y_pred1)\n",
    "auc1 = roc_auc_score(y_test1, y_pred_proba1)  # Calcular AUC-ROC usando probabilidades\n",
    "\n",
    "\n",
    "\n",
    "print(\"Accuracy score:\", round(accuracy1, 3))\n",
    "print(\"Recall score:\", round(recall1, 3))\n",
    "print(\"AUC-ROC score:\", round(auc1, 3))"
   ]
  },
  {
   "cell_type": "code",
   "execution_count": null,
   "metadata": {},
   "outputs": [],
   "source": [
    "'''#Exportar Modelo\n",
    "with open('trained_model1.pkl', 'wb') as file:\n",
    "    pickle.dump(modelo1, file)'''"
   ]
  },
  {
   "cell_type": "markdown",
   "metadata": {},
   "source": [
    "### 📌 Modelo 2"
   ]
  },
  {
   "cell_type": "code",
   "execution_count": 18,
   "metadata": {},
   "outputs": [],
   "source": [
    "def limpiar_img2(img_path):\n",
    "    img = cv.imread(img_path, cv.IMREAD_GRAYSCALE)  #grises\n",
    "    img = cv.resize(img, (32, 32))\n",
    "    img = img.astype(np.uint8)  #tipo uint8\n",
    "    img = cv.equalizeHist(img)  #ajuste de contraste\n",
    "    img = np.expand_dims(img, axis=-1)  #expandir dimensiones para que sea compatible con CNN\n",
    "    img = img / 255.0  #para que los grises sean de 0 a 1, normalizacion de colores\n",
    "    return img"
   ]
  },
  {
   "cell_type": "code",
   "execution_count": 19,
   "metadata": {},
   "outputs": [],
   "source": [
    "X_train2 = np.array([limpiar_img2(img) for img in train_imgs])\n",
    "y_train2 = np.array(train_labels)\n",
    "\n",
    "X_test2 = np.array([limpiar_img2(img) for img in test_imgs])\n",
    "y_test2 = np.array(test_labels)"
   ]
  },
  {
   "cell_type": "code",
   "execution_count": 20,
   "metadata": {},
   "outputs": [
    {
     "name": "stderr",
     "output_type": "stream",
     "text": [
      "/Library/Frameworks/Python.framework/Versions/3.10/lib/python3.10/site-packages/keras/src/layers/convolutional/base_conv.py:107: UserWarning: Do not pass an `input_shape`/`input_dim` argument to a layer. When using Sequential models, prefer using an `Input(shape)` object as the first layer in the model instead.\n",
      "  super().__init__(activity_regularizer=activity_regularizer, **kwargs)\n"
     ]
    }
   ],
   "source": [
    "modelo2 = Sequential([\n",
    "    Conv2D(32, (3, 3), activation='relu', input_shape=(32, 32, 1)),\n",
    "    MaxPooling2D((2, 2)),\n",
    "    Conv2D(64, (3, 3), activation='relu'),\n",
    "    MaxPooling2D((2, 2)),\n",
    "    Conv2D(128, (3, 3), activation='relu'),\n",
    "    MaxPooling2D((2, 2)),\n",
    "    Flatten(),\n",
    "    Dense(128, activation='relu'),\n",
    "    Dropout(0.5),\n",
    "    Dense(1, activation='sigmoid')\n",
    "])\n",
    "\n",
    "modelo2.compile(optimizer='adam', loss='binary_crossentropy', metrics=['accuracy'])"
   ]
  },
  {
   "cell_type": "code",
   "execution_count": 21,
   "metadata": {},
   "outputs": [
    {
     "name": "stdout",
     "output_type": "stream",
     "text": [
      "Epoch 1/50\n",
      "\u001b[1m139/139\u001b[0m \u001b[32m━━━━━━━━━━━━━━━━━━━━\u001b[0m\u001b[37m\u001b[0m \u001b[1m3s\u001b[0m 18ms/step - accuracy: 0.5326 - loss: 0.6879 - val_accuracy: 0.6544 - val_loss: 0.6074\n",
      "Epoch 2/50\n",
      "\u001b[1m139/139\u001b[0m \u001b[32m━━━━━━━━━━━━━━━━━━━━\u001b[0m\u001b[37m\u001b[0m \u001b[1m2s\u001b[0m 12ms/step - accuracy: 0.6822 - loss: 0.5951 - val_accuracy: 0.7226 - val_loss: 0.5509\n",
      "Epoch 3/50\n",
      "\u001b[1m139/139\u001b[0m \u001b[32m━━━━━━━━━━━━━━━━━━━━\u001b[0m\u001b[37m\u001b[0m \u001b[1m2s\u001b[0m 13ms/step - accuracy: 0.7321 - loss: 0.5426 - val_accuracy: 0.7361 - val_loss: 0.5154\n",
      "Epoch 4/50\n",
      "\u001b[1m139/139\u001b[0m \u001b[32m━━━━━━━━━━━━━━━━━━━━\u001b[0m\u001b[37m\u001b[0m \u001b[1m2s\u001b[0m 18ms/step - accuracy: 0.7643 - loss: 0.4912 - val_accuracy: 0.7496 - val_loss: 0.4994\n",
      "Epoch 5/50\n",
      "\u001b[1m139/139\u001b[0m \u001b[32m━━━━━━━━━━━━━━━━━━━━\u001b[0m\u001b[37m\u001b[0m \u001b[1m2s\u001b[0m 13ms/step - accuracy: 0.7634 - loss: 0.4821 - val_accuracy: 0.7504 - val_loss: 0.5166\n",
      "Epoch 6/50\n",
      "\u001b[1m139/139\u001b[0m \u001b[32m━━━━━━━━━━━━━━━━━━━━\u001b[0m\u001b[37m\u001b[0m \u001b[1m2s\u001b[0m 13ms/step - accuracy: 0.7794 - loss: 0.4590 - val_accuracy: 0.7612 - val_loss: 0.4912\n",
      "Epoch 7/50\n",
      "\u001b[1m139/139\u001b[0m \u001b[32m━━━━━━━━━━━━━━━━━━━━\u001b[0m\u001b[37m\u001b[0m \u001b[1m3s\u001b[0m 21ms/step - accuracy: 0.7963 - loss: 0.4246 - val_accuracy: 0.7711 - val_loss: 0.4813\n",
      "Epoch 8/50\n",
      "\u001b[1m139/139\u001b[0m \u001b[32m━━━━━━━━━━━━━━━━━━━━\u001b[0m\u001b[37m\u001b[0m \u001b[1m2s\u001b[0m 17ms/step - accuracy: 0.8033 - loss: 0.4154 - val_accuracy: 0.7846 - val_loss: 0.4662\n",
      "Epoch 9/50\n",
      "\u001b[1m139/139\u001b[0m \u001b[32m━━━━━━━━━━━━━━━━━━━━\u001b[0m\u001b[37m\u001b[0m \u001b[1m2s\u001b[0m 14ms/step - accuracy: 0.8211 - loss: 0.3822 - val_accuracy: 0.7540 - val_loss: 0.4978\n",
      "Epoch 10/50\n",
      "\u001b[1m139/139\u001b[0m \u001b[32m━━━━━━━━━━━━━━━━━━━━\u001b[0m\u001b[37m\u001b[0m \u001b[1m2s\u001b[0m 12ms/step - accuracy: 0.8290 - loss: 0.3767 - val_accuracy: 0.7684 - val_loss: 0.4959\n",
      "Epoch 11/50\n",
      "\u001b[1m139/139\u001b[0m \u001b[32m━━━━━━━━━━━━━━━━━━━━\u001b[0m\u001b[37m\u001b[0m \u001b[1m3s\u001b[0m 19ms/step - accuracy: 0.8520 - loss: 0.3518 - val_accuracy: 0.7747 - val_loss: 0.4905\n",
      "Epoch 12/50\n",
      "\u001b[1m139/139\u001b[0m \u001b[32m━━━━━━━━━━━━━━━━━━━━\u001b[0m\u001b[37m\u001b[0m \u001b[1m2s\u001b[0m 13ms/step - accuracy: 0.8676 - loss: 0.3197 - val_accuracy: 0.7756 - val_loss: 0.5204\n",
      "Epoch 13/50\n",
      "\u001b[1m139/139\u001b[0m \u001b[32m━━━━━━━━━━━━━━━━━━━━\u001b[0m\u001b[37m\u001b[0m \u001b[1m2s\u001b[0m 12ms/step - accuracy: 0.8796 - loss: 0.3104 - val_accuracy: 0.7801 - val_loss: 0.4934\n",
      "Epoch 14/50\n",
      "\u001b[1m139/139\u001b[0m \u001b[32m━━━━━━━━━━━━━━━━━━━━\u001b[0m\u001b[37m\u001b[0m \u001b[1m3s\u001b[0m 19ms/step - accuracy: 0.8792 - loss: 0.2897 - val_accuracy: 0.7684 - val_loss: 0.5106\n",
      "Epoch 15/50\n",
      "\u001b[1m139/139\u001b[0m \u001b[32m━━━━━━━━━━━━━━━━━━━━\u001b[0m\u001b[37m\u001b[0m \u001b[1m2s\u001b[0m 11ms/step - accuracy: 0.9090 - loss: 0.2414 - val_accuracy: 0.7801 - val_loss: 0.5583\n",
      "Epoch 16/50\n",
      "\u001b[1m139/139\u001b[0m \u001b[32m━━━━━━━━━━━━━━━━━━━━\u001b[0m\u001b[37m\u001b[0m \u001b[1m2s\u001b[0m 12ms/step - accuracy: 0.9105 - loss: 0.2313 - val_accuracy: 0.7747 - val_loss: 0.5667\n",
      "Epoch 17/50\n",
      "\u001b[1m139/139\u001b[0m \u001b[32m━━━━━━━━━━━━━━━━━━━━\u001b[0m\u001b[37m\u001b[0m \u001b[1m2s\u001b[0m 17ms/step - accuracy: 0.9156 - loss: 0.2148 - val_accuracy: 0.7496 - val_loss: 0.6674\n",
      "Epoch 18/50\n",
      "\u001b[1m139/139\u001b[0m \u001b[32m━━━━━━━━━━━━━━━━━━━━\u001b[0m\u001b[37m\u001b[0m \u001b[1m2s\u001b[0m 11ms/step - accuracy: 0.9287 - loss: 0.1966 - val_accuracy: 0.7666 - val_loss: 0.6594\n"
     ]
    }
   ],
   "source": [
    "from tensorflow import keras\n",
    "from keras.callbacks import  ModelCheckpoint\n",
    "\n",
    "checkpoint= keras.callbacks.ModelCheckpoint(\"callback_model.keras\")\n",
    "early_stopping = keras.callbacks.EarlyStopping(patience=10)\n",
    "\n",
    "history2 = modelo2.fit(X_train2, y_train2, epochs=50, validation_data=(X_test2, y_test2), callbacks = [early_stopping,checkpoint])"
   ]
  },
  {
   "cell_type": "code",
   "execution_count": 22,
   "metadata": {},
   "outputs": [
    {
     "name": "stdout",
     "output_type": "stream",
     "text": [
      "\u001b[1m35/35\u001b[0m \u001b[32m━━━━━━━━━━━━━━━━━━━━\u001b[0m\u001b[37m\u001b[0m \u001b[1m0s\u001b[0m 4ms/step\n",
      "Accuracy score: 0.767\n",
      "Recall score: 0.79\n",
      "AUC-ROC score: 0.845\n"
     ]
    }
   ],
   "source": [
    "from sklearn.metrics import accuracy_score,recall_score,\\\n",
    "                            roc_auc_score\n",
    "\n",
    "y_pred_proba2 = modelo2.predict(X_test2)\n",
    "y_pred2 = (y_pred_proba2 > 0.5).astype(int)  # Convertir probabilidades a etiquetas binarias (0 o 1)\n",
    "\n",
    "\n",
    "accuracy2 = accuracy_score(y_test2, y_pred2)\n",
    "recall2 = recall_score(y_test2, y_pred2)\n",
    "auc2 = roc_auc_score(y_test2, y_pred_proba2)  # Calcular AUC-ROC usando probabilidades\n",
    "\n",
    "\n",
    "\n",
    "print(\"Accuracy score:\", round(accuracy2, 3))\n",
    "print(\"Recall score:\", round(recall2, 3))\n",
    "print(\"AUC-ROC score:\", round(auc2, 3))"
   ]
  },
  {
   "cell_type": "code",
   "execution_count": 23,
   "metadata": {},
   "outputs": [
    {
     "data": {
      "text/plain": [
       "\"#Exportar Modelo\\nimport pickle\\n\\nwith open('trained_model_2.pkl', 'wb') as file:\\n    pickle.dump(modelo2, file)\""
      ]
     },
     "execution_count": 23,
     "metadata": {},
     "output_type": "execute_result"
    }
   ],
   "source": [
    "'''#Exportar Modelo\n",
    "\n",
    "with open('trained_model_2.pkl', 'wb') as file:\n",
    "    pickle.dump(modelo2, file)'''"
   ]
  },
  {
   "cell_type": "markdown",
   "metadata": {},
   "source": [
    "### 📌 Modelo 3"
   ]
  },
  {
   "cell_type": "code",
   "execution_count": 24,
   "metadata": {},
   "outputs": [],
   "source": [
    "# Función para cargar y preprocesar imágenes\n",
    "def limpiar_img3(img_path):\n",
    "    img = cv.imread(img_path, cv.IMREAD_GRAYSCALE)\n",
    "    img = cv.resize(img, (32, 32))\n",
    "    img = img.astype(np.uint8)  \n",
    "    img = cv.equalizeHist(img)  \n",
    "    img = np.expand_dims(img, axis=-1)  \n",
    "    img = img / 255.0 \n",
    "    return img"
   ]
  },
  {
   "cell_type": "code",
   "execution_count": 25,
   "metadata": {},
   "outputs": [],
   "source": [
    "X_train3 = np.array([limpiar_img3(img) for img in train_imgs])\n",
    "y_train3 = np.array(train_labels)\n",
    "\n",
    "X_test3 = np.array([limpiar_img3(img) for img in test_imgs])\n",
    "y_test3 = np.array(test_labels)"
   ]
  },
  {
   "cell_type": "code",
   "execution_count": 26,
   "metadata": {},
   "outputs": [
    {
     "name": "stderr",
     "output_type": "stream",
     "text": [
      "/Library/Frameworks/Python.framework/Versions/3.10/lib/python3.10/site-packages/keras/src/layers/convolutional/base_conv.py:107: UserWarning: Do not pass an `input_shape`/`input_dim` argument to a layer. When using Sequential models, prefer using an `Input(shape)` object as the first layer in the model instead.\n",
      "  super().__init__(activity_regularizer=activity_regularizer, **kwargs)\n"
     ]
    }
   ],
   "source": [
    "modelo3 = Sequential([\n",
    "    Conv2D(32, (3, 3), activation='relu', input_shape=(32, 32, 1)),\n",
    "    MaxPooling2D((2, 2)),\n",
    "    Conv2D(64, (3, 3), activation='relu'),\n",
    "    MaxPooling2D((2, 2)),\n",
    "    Conv2D(128, (3, 3), activation='relu'),\n",
    "    MaxPooling2D((2, 2)),\n",
    "    Flatten(),\n",
    "    Dense(128, activation='relu'),\n",
    "    Dropout(0.5),\n",
    "    Dense(1, activation='sigmoid')\n",
    "])"
   ]
  },
  {
   "cell_type": "code",
   "execution_count": 27,
   "metadata": {},
   "outputs": [],
   "source": [
    "modelo3.compile(optimizer='adam', loss='binary_crossentropy', metrics=['accuracy'])"
   ]
  },
  {
   "cell_type": "code",
   "execution_count": 28,
   "metadata": {},
   "outputs": [],
   "source": [
    "from tensorflow import keras\n",
    "from keras.callbacks import  ModelCheckpoint\n",
    "\n",
    "checkpoint3= keras.callbacks.ModelCheckpoint(\"callback_model.keras\")\n",
    "early_stopping3 = keras.callbacks.EarlyStopping(patience=10)"
   ]
  },
  {
   "cell_type": "code",
   "execution_count": 29,
   "metadata": {},
   "outputs": [
    {
     "name": "stdout",
     "output_type": "stream",
     "text": [
      "Epoch 1/50\n",
      "\u001b[1m 12/139\u001b[0m \u001b[32m━\u001b[0m\u001b[37m━━━━━━━━━━━━━━━━━━━\u001b[0m \u001b[1m1s\u001b[0m 10ms/step - accuracy: 0.5660 - loss: 0.6944  "
     ]
    },
    {
     "name": "stderr",
     "output_type": "stream",
     "text": [
      "/Library/Frameworks/Python.framework/Versions/3.10/lib/python3.10/site-packages/keras/src/trainers/data_adapters/py_dataset_adapter.py:121: UserWarning: Your `PyDataset` class should call `super().__init__(**kwargs)` in its constructor. `**kwargs` can include `workers`, `use_multiprocessing`, `max_queue_size`. Do not pass these arguments to `fit()`, as they will be ignored.\n",
      "  self._warn_if_super_not_called()\n"
     ]
    },
    {
     "name": "stdout",
     "output_type": "stream",
     "text": [
      "\u001b[1m139/139\u001b[0m \u001b[32m━━━━━━━━━━━━━━━━━━━━\u001b[0m\u001b[37m\u001b[0m \u001b[1m3s\u001b[0m 14ms/step - accuracy: 0.5249 - loss: 0.6932 - val_accuracy: 0.5386 - val_loss: 0.7296\n",
      "Epoch 2/50\n",
      "\u001b[1m139/139\u001b[0m \u001b[32m━━━━━━━━━━━━━━━━━━━━\u001b[0m\u001b[37m\u001b[0m \u001b[1m1s\u001b[0m 10ms/step - accuracy: 0.6009 - loss: 0.6747 - val_accuracy: 0.6158 - val_loss: 0.6364\n",
      "Epoch 3/50\n",
      "\u001b[1m139/139\u001b[0m \u001b[32m━━━━━━━━━━━━━━━━━━━━\u001b[0m\u001b[37m\u001b[0m \u001b[1m1s\u001b[0m 10ms/step - accuracy: 0.6403 - loss: 0.6401 - val_accuracy: 0.6804 - val_loss: 0.5890\n",
      "Epoch 4/50\n",
      "\u001b[1m139/139\u001b[0m \u001b[32m━━━━━━━━━━━━━━━━━━━━\u001b[0m\u001b[37m\u001b[0m \u001b[1m1s\u001b[0m 10ms/step - accuracy: 0.6445 - loss: 0.6323 - val_accuracy: 0.6984 - val_loss: 0.5858\n",
      "Epoch 5/50\n",
      "\u001b[1m139/139\u001b[0m \u001b[32m━━━━━━━━━━━━━━━━━━━━\u001b[0m\u001b[37m\u001b[0m \u001b[1m1s\u001b[0m 10ms/step - accuracy: 0.6526 - loss: 0.6240 - val_accuracy: 0.6930 - val_loss: 0.5769\n",
      "Epoch 6/50\n",
      "\u001b[1m139/139\u001b[0m \u001b[32m━━━━━━━━━━━━━━━━━━━━\u001b[0m\u001b[37m\u001b[0m \u001b[1m1s\u001b[0m 10ms/step - accuracy: 0.6575 - loss: 0.6185 - val_accuracy: 0.7083 - val_loss: 0.5744\n",
      "Epoch 7/50\n",
      "\u001b[1m139/139\u001b[0m \u001b[32m━━━━━━━━━━━━━━━━━━━━\u001b[0m\u001b[37m\u001b[0m \u001b[1m1s\u001b[0m 10ms/step - accuracy: 0.6752 - loss: 0.6088 - val_accuracy: 0.7163 - val_loss: 0.5515\n",
      "Epoch 8/50\n",
      "\u001b[1m139/139\u001b[0m \u001b[32m━━━━━━━━━━━━━━━━━━━━\u001b[0m\u001b[37m\u001b[0m \u001b[1m1s\u001b[0m 10ms/step - accuracy: 0.6612 - loss: 0.6082 - val_accuracy: 0.7172 - val_loss: 0.5466\n",
      "Epoch 9/50\n",
      "\u001b[1m139/139\u001b[0m \u001b[32m━━━━━━━━━━━━━━━━━━━━\u001b[0m\u001b[37m\u001b[0m \u001b[1m1s\u001b[0m 10ms/step - accuracy: 0.6962 - loss: 0.5873 - val_accuracy: 0.6984 - val_loss: 0.5586\n",
      "Epoch 10/50\n",
      "\u001b[1m139/139\u001b[0m \u001b[32m━━━━━━━━━━━━━━━━━━━━\u001b[0m\u001b[37m\u001b[0m \u001b[1m2s\u001b[0m 11ms/step - accuracy: 0.6839 - loss: 0.5956 - val_accuracy: 0.7253 - val_loss: 0.5482\n",
      "Epoch 11/50\n",
      "\u001b[1m139/139\u001b[0m \u001b[32m━━━━━━━━━━━━━━━━━━━━\u001b[0m\u001b[37m\u001b[0m \u001b[1m2s\u001b[0m 11ms/step - accuracy: 0.6815 - loss: 0.5879 - val_accuracy: 0.7047 - val_loss: 0.5653\n",
      "Epoch 12/50\n",
      "\u001b[1m139/139\u001b[0m \u001b[32m━━━━━━━━━━━━━━━━━━━━\u001b[0m\u001b[37m\u001b[0m \u001b[1m2s\u001b[0m 11ms/step - accuracy: 0.6931 - loss: 0.5850 - val_accuracy: 0.7235 - val_loss: 0.5419\n",
      "Epoch 13/50\n",
      "\u001b[1m139/139\u001b[0m \u001b[32m━━━━━━━━━━━━━━━━━━━━\u001b[0m\u001b[37m\u001b[0m \u001b[1m2s\u001b[0m 13ms/step - accuracy: 0.7007 - loss: 0.5752 - val_accuracy: 0.7145 - val_loss: 0.5513\n",
      "Epoch 14/50\n",
      "\u001b[1m139/139\u001b[0m \u001b[32m━━━━━━━━━━━━━━━━━━━━\u001b[0m\u001b[37m\u001b[0m \u001b[1m2s\u001b[0m 11ms/step - accuracy: 0.6976 - loss: 0.5792 - val_accuracy: 0.7244 - val_loss: 0.5348\n",
      "Epoch 15/50\n",
      "\u001b[1m139/139\u001b[0m \u001b[32m━━━━━━━━━━━━━━━━━━━━\u001b[0m\u001b[37m\u001b[0m \u001b[1m2s\u001b[0m 11ms/step - accuracy: 0.6874 - loss: 0.5663 - val_accuracy: 0.7280 - val_loss: 0.5418\n",
      "Epoch 16/50\n",
      "\u001b[1m139/139\u001b[0m \u001b[32m━━━━━━━━━━━━━━━━━━━━\u001b[0m\u001b[37m\u001b[0m \u001b[1m1s\u001b[0m 10ms/step - accuracy: 0.7177 - loss: 0.5643 - val_accuracy: 0.7334 - val_loss: 0.5255\n",
      "Epoch 17/50\n",
      "\u001b[1m139/139\u001b[0m \u001b[32m━━━━━━━━━━━━━━━━━━━━\u001b[0m\u001b[37m\u001b[0m \u001b[1m1s\u001b[0m 10ms/step - accuracy: 0.7145 - loss: 0.5531 - val_accuracy: 0.7280 - val_loss: 0.5207\n",
      "Epoch 18/50\n",
      "\u001b[1m139/139\u001b[0m \u001b[32m━━━━━━━━━━━━━━━━━━━━\u001b[0m\u001b[37m\u001b[0m \u001b[1m1s\u001b[0m 10ms/step - accuracy: 0.7192 - loss: 0.5515 - val_accuracy: 0.7352 - val_loss: 0.5206\n",
      "Epoch 19/50\n",
      "\u001b[1m139/139\u001b[0m \u001b[32m━━━━━━━━━━━━━━━━━━━━\u001b[0m\u001b[37m\u001b[0m \u001b[1m1s\u001b[0m 10ms/step - accuracy: 0.7368 - loss: 0.5366 - val_accuracy: 0.7271 - val_loss: 0.5271\n",
      "Epoch 20/50\n",
      "\u001b[1m139/139\u001b[0m \u001b[32m━━━━━━━━━━━━━━━━━━━━\u001b[0m\u001b[37m\u001b[0m \u001b[1m2s\u001b[0m 12ms/step - accuracy: 0.7111 - loss: 0.5572 - val_accuracy: 0.7307 - val_loss: 0.5227\n",
      "Epoch 21/50\n",
      "\u001b[1m139/139\u001b[0m \u001b[32m━━━━━━━━━━━━━━━━━━━━\u001b[0m\u001b[37m\u001b[0m \u001b[1m2s\u001b[0m 12ms/step - accuracy: 0.7446 - loss: 0.5272 - val_accuracy: 0.7370 - val_loss: 0.5275\n",
      "Epoch 22/50\n",
      "\u001b[1m139/139\u001b[0m \u001b[32m━━━━━━━━━━━━━━━━━━━━\u001b[0m\u001b[37m\u001b[0m \u001b[1m2s\u001b[0m 15ms/step - accuracy: 0.7157 - loss: 0.5544 - val_accuracy: 0.7262 - val_loss: 0.5260\n",
      "Epoch 23/50\n",
      "\u001b[1m139/139\u001b[0m \u001b[32m━━━━━━━━━━━━━━━━━━━━\u001b[0m\u001b[37m\u001b[0m \u001b[1m1s\u001b[0m 10ms/step - accuracy: 0.7236 - loss: 0.5439 - val_accuracy: 0.7504 - val_loss: 0.5066\n",
      "Epoch 24/50\n",
      "\u001b[1m139/139\u001b[0m \u001b[32m━━━━━━━━━━━━━━━━━━━━\u001b[0m\u001b[37m\u001b[0m \u001b[1m2s\u001b[0m 14ms/step - accuracy: 0.7098 - loss: 0.5598 - val_accuracy: 0.7451 - val_loss: 0.5034\n",
      "Epoch 25/50\n",
      "\u001b[1m139/139\u001b[0m \u001b[32m━━━━━━━━━━━━━━━━━━━━\u001b[0m\u001b[37m\u001b[0m \u001b[1m2s\u001b[0m 16ms/step - accuracy: 0.7436 - loss: 0.5249 - val_accuracy: 0.7558 - val_loss: 0.4989\n",
      "Epoch 26/50\n",
      "\u001b[1m139/139\u001b[0m \u001b[32m━━━━━━━━━━━━━━━━━━━━\u001b[0m\u001b[37m\u001b[0m \u001b[1m1s\u001b[0m 10ms/step - accuracy: 0.7307 - loss: 0.5395 - val_accuracy: 0.7540 - val_loss: 0.4941\n",
      "Epoch 27/50\n",
      "\u001b[1m139/139\u001b[0m \u001b[32m━━━━━━━━━━━━━━━━━━━━\u001b[0m\u001b[37m\u001b[0m \u001b[1m1s\u001b[0m 10ms/step - accuracy: 0.7263 - loss: 0.5395 - val_accuracy: 0.7262 - val_loss: 0.5426\n",
      "Epoch 28/50\n",
      "\u001b[1m139/139\u001b[0m \u001b[32m━━━━━━━━━━━━━━━━━━━━\u001b[0m\u001b[37m\u001b[0m \u001b[1m1s\u001b[0m 10ms/step - accuracy: 0.7177 - loss: 0.5442 - val_accuracy: 0.7442 - val_loss: 0.5155\n",
      "Epoch 29/50\n",
      "\u001b[1m139/139\u001b[0m \u001b[32m━━━━━━━━━━━━━━━━━━━━\u001b[0m\u001b[37m\u001b[0m \u001b[1m1s\u001b[0m 10ms/step - accuracy: 0.7305 - loss: 0.5359 - val_accuracy: 0.7612 - val_loss: 0.4909\n",
      "Epoch 30/50\n",
      "\u001b[1m139/139\u001b[0m \u001b[32m━━━━━━━━━━━━━━━━━━━━\u001b[0m\u001b[37m\u001b[0m \u001b[1m1s\u001b[0m 10ms/step - accuracy: 0.7206 - loss: 0.5253 - val_accuracy: 0.7451 - val_loss: 0.5160\n",
      "Epoch 31/50\n",
      "\u001b[1m139/139\u001b[0m \u001b[32m━━━━━━━━━━━━━━━━━━━━\u001b[0m\u001b[37m\u001b[0m \u001b[1m1s\u001b[0m 10ms/step - accuracy: 0.7317 - loss: 0.5319 - val_accuracy: 0.7630 - val_loss: 0.4902\n",
      "Epoch 32/50\n",
      "\u001b[1m139/139\u001b[0m \u001b[32m━━━━━━━━━━━━━━━━━━━━\u001b[0m\u001b[37m\u001b[0m \u001b[1m1s\u001b[0m 10ms/step - accuracy: 0.7207 - loss: 0.5338 - val_accuracy: 0.7675 - val_loss: 0.4895\n",
      "Epoch 33/50\n",
      "\u001b[1m139/139\u001b[0m \u001b[32m━━━━━━━━━━━━━━━━━━━━\u001b[0m\u001b[37m\u001b[0m \u001b[1m1s\u001b[0m 10ms/step - accuracy: 0.7352 - loss: 0.5130 - val_accuracy: 0.7675 - val_loss: 0.5060\n",
      "Epoch 34/50\n",
      "\u001b[1m139/139\u001b[0m \u001b[32m━━━━━━━━━━━━━━━━━━━━\u001b[0m\u001b[37m\u001b[0m \u001b[1m1s\u001b[0m 10ms/step - accuracy: 0.7442 - loss: 0.5175 - val_accuracy: 0.7567 - val_loss: 0.4839\n",
      "Epoch 35/50\n",
      "\u001b[1m139/139\u001b[0m \u001b[32m━━━━━━━━━━━━━━━━━━━━\u001b[0m\u001b[37m\u001b[0m \u001b[1m1s\u001b[0m 10ms/step - accuracy: 0.7511 - loss: 0.5091 - val_accuracy: 0.7549 - val_loss: 0.5048\n",
      "Epoch 36/50\n",
      "\u001b[1m139/139\u001b[0m \u001b[32m━━━━━━━━━━━━━━━━━━━━\u001b[0m\u001b[37m\u001b[0m \u001b[1m2s\u001b[0m 15ms/step - accuracy: 0.7508 - loss: 0.5020 - val_accuracy: 0.7558 - val_loss: 0.4945\n",
      "Epoch 37/50\n",
      "\u001b[1m139/139\u001b[0m \u001b[32m━━━━━━━━━━━━━━━━━━━━\u001b[0m\u001b[37m\u001b[0m \u001b[1m1s\u001b[0m 10ms/step - accuracy: 0.7339 - loss: 0.5196 - val_accuracy: 0.7585 - val_loss: 0.4802\n",
      "Epoch 38/50\n",
      "\u001b[1m139/139\u001b[0m \u001b[32m━━━━━━━━━━━━━━━━━━━━\u001b[0m\u001b[37m\u001b[0m \u001b[1m1s\u001b[0m 10ms/step - accuracy: 0.7497 - loss: 0.4971 - val_accuracy: 0.7576 - val_loss: 0.4774\n",
      "Epoch 39/50\n",
      "\u001b[1m139/139\u001b[0m \u001b[32m━━━━━━━━━━━━━━━━━━━━\u001b[0m\u001b[37m\u001b[0m \u001b[1m1s\u001b[0m 10ms/step - accuracy: 0.7484 - loss: 0.5078 - val_accuracy: 0.7594 - val_loss: 0.4744\n",
      "Epoch 40/50\n",
      "\u001b[1m139/139\u001b[0m \u001b[32m━━━━━━━━━━━━━━━━━━━━\u001b[0m\u001b[37m\u001b[0m \u001b[1m2s\u001b[0m 11ms/step - accuracy: 0.7457 - loss: 0.5084 - val_accuracy: 0.7621 - val_loss: 0.4782\n",
      "Epoch 41/50\n",
      "\u001b[1m139/139\u001b[0m \u001b[32m━━━━━━━━━━━━━━━━━━━━\u001b[0m\u001b[37m\u001b[0m \u001b[1m2s\u001b[0m 11ms/step - accuracy: 0.7531 - loss: 0.4959 - val_accuracy: 0.7630 - val_loss: 0.4804\n",
      "Epoch 42/50\n",
      "\u001b[1m139/139\u001b[0m \u001b[32m━━━━━━━━━━━━━━━━━━━━\u001b[0m\u001b[37m\u001b[0m \u001b[1m2s\u001b[0m 11ms/step - accuracy: 0.7568 - loss: 0.5008 - val_accuracy: 0.7666 - val_loss: 0.4945\n",
      "Epoch 43/50\n",
      "\u001b[1m139/139\u001b[0m \u001b[32m━━━━━━━━━━━━━━━━━━━━\u001b[0m\u001b[37m\u001b[0m \u001b[1m2s\u001b[0m 16ms/step - accuracy: 0.7569 - loss: 0.5048 - val_accuracy: 0.7648 - val_loss: 0.4879\n",
      "Epoch 44/50\n",
      "\u001b[1m139/139\u001b[0m \u001b[32m━━━━━━━━━━━━━━━━━━━━\u001b[0m\u001b[37m\u001b[0m \u001b[1m2s\u001b[0m 13ms/step - accuracy: 0.7476 - loss: 0.5024 - val_accuracy: 0.7639 - val_loss: 0.4829\n",
      "Epoch 45/50\n",
      "\u001b[1m139/139\u001b[0m \u001b[32m━━━━━━━━━━━━━━━━━━━━\u001b[0m\u001b[37m\u001b[0m \u001b[1m2s\u001b[0m 12ms/step - accuracy: 0.7580 - loss: 0.4864 - val_accuracy: 0.7747 - val_loss: 0.4685\n",
      "Epoch 46/50\n",
      "\u001b[1m139/139\u001b[0m \u001b[32m━━━━━━━━━━━━━━━━━━━━\u001b[0m\u001b[37m\u001b[0m \u001b[1m3s\u001b[0m 18ms/step - accuracy: 0.7567 - loss: 0.4955 - val_accuracy: 0.7675 - val_loss: 0.4753\n",
      "Epoch 47/50\n",
      "\u001b[1m139/139\u001b[0m \u001b[32m━━━━━━━━━━━━━━━━━━━━\u001b[0m\u001b[37m\u001b[0m \u001b[1m2s\u001b[0m 12ms/step - accuracy: 0.7503 - loss: 0.4969 - val_accuracy: 0.7648 - val_loss: 0.4780\n",
      "Epoch 48/50\n",
      "\u001b[1m139/139\u001b[0m \u001b[32m━━━━━━━━━━━━━━━━━━━━\u001b[0m\u001b[37m\u001b[0m \u001b[1m2s\u001b[0m 12ms/step - accuracy: 0.7510 - loss: 0.4935 - val_accuracy: 0.7630 - val_loss: 0.4937\n",
      "Epoch 49/50\n",
      "\u001b[1m139/139\u001b[0m \u001b[32m━━━━━━━━━━━━━━━━━━━━\u001b[0m\u001b[37m\u001b[0m \u001b[1m2s\u001b[0m 11ms/step - accuracy: 0.7511 - loss: 0.4971 - val_accuracy: 0.7639 - val_loss: 0.4738\n",
      "Epoch 50/50\n",
      "\u001b[1m139/139\u001b[0m \u001b[32m━━━━━━━━━━━━━━━━━━━━\u001b[0m\u001b[37m\u001b[0m \u001b[1m1s\u001b[0m 10ms/step - accuracy: 0.7631 - loss: 0.4790 - val_accuracy: 0.7603 - val_loss: 0.4724\n"
     ]
    }
   ],
   "source": [
    "datagen = ImageDataGenerator(\n",
    "    rotation_range=20,      \n",
    "    width_shift_range=0.1,   \n",
    "    height_shift_range=0.1,  \n",
    "    shear_range=0.2,     \n",
    "    zoom_range=0.2,          \n",
    "    horizontal_flip=True,    \n",
    "    fill_mode='nearest'      \n",
    ")\n",
    "\n",
    "\n",
    "datagen.fit(X_train3)\n",
    "\n",
    "\n",
    "history_gen3 = modelo3.fit(datagen.flow(X_train3, y_train3, batch_size=32), epochs=50, validation_data=(X_test3, y_test3),\n",
    "                           callbacks = [early_stopping3,checkpoint3])\n"
   ]
  },
  {
   "cell_type": "code",
   "execution_count": 30,
   "metadata": {},
   "outputs": [
    {
     "name": "stdout",
     "output_type": "stream",
     "text": [
      "\u001b[1m35/35\u001b[0m \u001b[32m━━━━━━━━━━━━━━━━━━━━\u001b[0m\u001b[37m\u001b[0m \u001b[1m0s\u001b[0m 7ms/step\n",
      "Accuracy: 0.76\n",
      "Recall: 0.835\n",
      "AUC-ROC score: 0.854\n"
     ]
    }
   ],
   "source": [
    "y_pred_proba3 = modelo3.predict(X_test3)\n",
    "y_pred3 = (y_pred_proba3 > 0.5).astype(int)\n",
    "\n",
    "# Calcular métricas\n",
    "accuracy3 = accuracy_score(y_test3, y_pred3)\n",
    "recall3 = recall_score(y_test3, y_pred3)\n",
    "auc3 = roc_auc_score(y_test3, y_pred_proba3) \n",
    "\n",
    "print(\"Accuracy:\", round(accuracy3, 3))\n",
    "print(\"Recall:\", round(recall3, 3))\n",
    "print(\"AUC-ROC score:\", round(auc3, 3))"
   ]
  },
  {
   "cell_type": "code",
   "execution_count": 31,
   "metadata": {},
   "outputs": [
    {
     "data": {
      "text/plain": [
       "\"import pickle\\n\\nwith open('trained_model_3.pkl', 'wb') as file:\\n    pickle.dump(modelo3, file)\""
      ]
     },
     "execution_count": 31,
     "metadata": {},
     "output_type": "execute_result"
    }
   ],
   "source": [
    "#Exportar Modelo\n",
    "'''import pickle\n",
    "\n",
    "with open('trained_model_3.pkl', 'wb') as file:\n",
    "    pickle.dump(modelo3, file)'''"
   ]
  },
  {
   "cell_type": "markdown",
   "metadata": {},
   "source": [
    "### 📌 Modelo 4 🥇 "
   ]
  },
  {
   "cell_type": "code",
   "execution_count": 20,
   "metadata": {},
   "outputs": [],
   "source": [
    "# Función para cargar y preprocesar imágenes\n",
    "def limpiar_img4(img_path):\n",
    "    img = cv.imread(img_path, cv.IMREAD_GRAYSCALE) \n",
    "    img = cv.resize(img, (50, 50))\n",
    "    img = img.astype(np.uint8)  \n",
    "    img = cv.equalizeHist(img)  \n",
    "    img = np.expand_dims(img, axis=-1)  \n",
    "    img = img / 255.0  \n",
    "    return img"
   ]
  },
  {
   "cell_type": "code",
   "execution_count": 21,
   "metadata": {},
   "outputs": [],
   "source": [
    "X_train4 = np.array([limpiar_img4(img) for img in train_imgs])\n",
    "y_train4 = np.array(train_labels)\n",
    "\n",
    "X_test4 = np.array([limpiar_img4(img) for img in test_imgs])\n",
    "y_test4 = np.array(test_labels)"
   ]
  },
  {
   "cell_type": "code",
   "execution_count": 22,
   "metadata": {},
   "outputs": [
    {
     "name": "stderr",
     "output_type": "stream",
     "text": [
      "/Library/Frameworks/Python.framework/Versions/3.10/lib/python3.10/site-packages/keras/src/layers/convolutional/base_conv.py:107: UserWarning: Do not pass an `input_shape`/`input_dim` argument to a layer. When using Sequential models, prefer using an `Input(shape)` object as the first layer in the model instead.\n",
      "  super().__init__(activity_regularizer=activity_regularizer, **kwargs)\n"
     ]
    }
   ],
   "source": [
    "modelo4 = Sequential([\n",
    "    Conv2D(32, (3, 3), activation='relu', input_shape=(50, 50, 1)),\n",
    "    MaxPooling2D((2, 2)),\n",
    "\n",
    "    Conv2D(64, (3, 3), activation='relu'),\n",
    "    MaxPooling2D((2, 2)),\n",
    "\n",
    "    Conv2D(128, (3, 3), activation='relu'),\n",
    "    Dropout(0.25),\n",
    "    MaxPooling2D((2, 2)),\n",
    "\n",
    "    Conv2D(64, (3, 3), activation='relu'),\n",
    "    MaxPooling2D((2, 2)),\n",
    "    \n",
    "    Flatten(),\n",
    "    Dense(50, activation='relu'),\n",
    "    Dropout(0.2),\n",
    "    Dense(1, activation='sigmoid')\n",
    "])"
   ]
  },
  {
   "cell_type": "code",
   "execution_count": 23,
   "metadata": {},
   "outputs": [],
   "source": [
    "modelo4.compile(optimizer='adam', loss='binary_crossentropy', metrics=['accuracy','recall'])"
   ]
  },
  {
   "cell_type": "code",
   "execution_count": 24,
   "metadata": {},
   "outputs": [],
   "source": [
    "from tensorflow import keras\n",
    "from keras.callbacks import  ModelCheckpoint\n",
    "\n",
    "checkpoint4= keras.callbacks.ModelCheckpoint(\"callback_model.keras\")\n",
    "early_stopping4 = keras.callbacks.EarlyStopping(patience=10)"
   ]
  },
  {
   "cell_type": "code",
   "execution_count": 27,
   "metadata": {},
   "outputs": [
    {
     "name": "stdout",
     "output_type": "stream",
     "text": [
      "Epoch 1/150\n",
      "\u001b[1m  5/139\u001b[0m \u001b[37m━━━━━━━━━━━━━━━━━━━━\u001b[0m \u001b[1m3s\u001b[0m 27ms/step - accuracy: 0.7027 - loss: 0.5459 - recall: 0.6567"
     ]
    },
    {
     "name": "stderr",
     "output_type": "stream",
     "text": [
      "/Library/Frameworks/Python.framework/Versions/3.10/lib/python3.10/site-packages/keras/src/trainers/data_adapters/py_dataset_adapter.py:121: UserWarning: Your `PyDataset` class should call `super().__init__(**kwargs)` in its constructor. `**kwargs` can include `workers`, `use_multiprocessing`, `max_queue_size`. Do not pass these arguments to `fit()`, as they will be ignored.\n",
      "  self._warn_if_super_not_called()\n"
     ]
    },
    {
     "name": "stdout",
     "output_type": "stream",
     "text": [
      "\u001b[1m139/139\u001b[0m \u001b[32m━━━━━━━━━━━━━━━━━━━━\u001b[0m\u001b[37m\u001b[0m \u001b[1m4s\u001b[0m 27ms/step - accuracy: 0.7417 - loss: 0.5167 - recall: 0.7803 - val_accuracy: 0.7361 - val_loss: 0.5156 - val_recall: 0.6589\n",
      "Epoch 2/150\n",
      "\u001b[1m139/139\u001b[0m \u001b[32m━━━━━━━━━━━━━━━━━━━━\u001b[0m\u001b[37m\u001b[0m \u001b[1m4s\u001b[0m 28ms/step - accuracy: 0.7295 - loss: 0.5263 - recall: 0.7924 - val_accuracy: 0.7478 - val_loss: 0.4933 - val_recall: 0.8133\n",
      "Epoch 3/150\n",
      "\u001b[1m139/139\u001b[0m \u001b[32m━━━━━━━━━━━━━━━━━━━━\u001b[0m\u001b[37m\u001b[0m \u001b[1m4s\u001b[0m 26ms/step - accuracy: 0.7392 - loss: 0.5131 - recall: 0.8101 - val_accuracy: 0.7603 - val_loss: 0.4787 - val_recall: 0.8582\n",
      "Epoch 4/150\n",
      "\u001b[1m139/139\u001b[0m \u001b[32m━━━━━━━━━━━━━━━━━━━━\u001b[0m\u001b[37m\u001b[0m \u001b[1m4s\u001b[0m 25ms/step - accuracy: 0.7522 - loss: 0.5108 - recall: 0.8034 - val_accuracy: 0.7675 - val_loss: 0.4897 - val_recall: 0.8115\n",
      "Epoch 5/150\n",
      "\u001b[1m139/139\u001b[0m \u001b[32m━━━━━━━━━━━━━━━━━━━━\u001b[0m\u001b[37m\u001b[0m \u001b[1m4s\u001b[0m 26ms/step - accuracy: 0.7410 - loss: 0.5162 - recall: 0.8055 - val_accuracy: 0.7738 - val_loss: 0.4854 - val_recall: 0.8187\n",
      "Epoch 6/150\n",
      "\u001b[1m139/139\u001b[0m \u001b[32m━━━━━━━━━━━━━━━━━━━━\u001b[0m\u001b[37m\u001b[0m \u001b[1m4s\u001b[0m 27ms/step - accuracy: 0.7557 - loss: 0.5014 - recall: 0.8081 - val_accuracy: 0.7594 - val_loss: 0.4801 - val_recall: 0.7720\n",
      "Epoch 7/150\n",
      "\u001b[1m139/139\u001b[0m \u001b[32m━━━━━━━━━━━━━━━━━━━━\u001b[0m\u001b[37m\u001b[0m \u001b[1m4s\u001b[0m 27ms/step - accuracy: 0.7433 - loss: 0.5183 - recall: 0.7986 - val_accuracy: 0.7433 - val_loss: 0.5042 - val_recall: 0.7074\n",
      "Epoch 8/150\n",
      "\u001b[1m139/139\u001b[0m \u001b[32m━━━━━━━━━━━━━━━━━━━━\u001b[0m\u001b[37m\u001b[0m \u001b[1m4s\u001b[0m 26ms/step - accuracy: 0.7556 - loss: 0.5028 - recall: 0.7929 - val_accuracy: 0.7702 - val_loss: 0.4800 - val_recall: 0.8420\n",
      "Epoch 9/150\n",
      "\u001b[1m139/139\u001b[0m \u001b[32m━━━━━━━━━━━━━━━━━━━━\u001b[0m\u001b[37m\u001b[0m \u001b[1m4s\u001b[0m 27ms/step - accuracy: 0.7558 - loss: 0.5042 - recall: 0.7844 - val_accuracy: 0.7675 - val_loss: 0.4803 - val_recall: 0.8618\n",
      "Epoch 10/150\n",
      "\u001b[1m139/139\u001b[0m \u001b[32m━━━━━━━━━━━━━━━━━━━━\u001b[0m\u001b[37m\u001b[0m \u001b[1m4s\u001b[0m 28ms/step - accuracy: 0.7533 - loss: 0.4917 - recall: 0.7976 - val_accuracy: 0.7567 - val_loss: 0.4880 - val_recall: 0.7594\n",
      "Epoch 11/150\n",
      "\u001b[1m139/139\u001b[0m \u001b[32m━━━━━━━━━━━━━━━━━━━━\u001b[0m\u001b[37m\u001b[0m \u001b[1m4s\u001b[0m 28ms/step - accuracy: 0.7648 - loss: 0.4882 - recall: 0.8231 - val_accuracy: 0.7567 - val_loss: 0.4844 - val_recall: 0.8600\n",
      "Epoch 12/150\n",
      "\u001b[1m139/139\u001b[0m \u001b[32m━━━━━━━━━━━━━━━━━━━━\u001b[0m\u001b[37m\u001b[0m \u001b[1m4s\u001b[0m 28ms/step - accuracy: 0.7540 - loss: 0.5085 - recall: 0.7872 - val_accuracy: 0.7603 - val_loss: 0.4742 - val_recall: 0.8564\n",
      "Epoch 13/150\n",
      "\u001b[1m139/139\u001b[0m \u001b[32m━━━━━━━━━━━━━━━━━━━━\u001b[0m\u001b[37m\u001b[0m \u001b[1m4s\u001b[0m 27ms/step - accuracy: 0.7402 - loss: 0.5175 - recall: 0.8043 - val_accuracy: 0.7666 - val_loss: 0.4739 - val_recall: 0.7846\n",
      "Epoch 14/150\n",
      "\u001b[1m139/139\u001b[0m \u001b[32m━━━━━━━━━━━━━━━━━━━━\u001b[0m\u001b[37m\u001b[0m \u001b[1m4s\u001b[0m 27ms/step - accuracy: 0.7567 - loss: 0.4978 - recall: 0.7770 - val_accuracy: 0.7594 - val_loss: 0.4806 - val_recall: 0.7612\n",
      "Epoch 15/150\n",
      "\u001b[1m139/139\u001b[0m \u001b[32m━━━━━━━━━━━━━━━━━━━━\u001b[0m\u001b[37m\u001b[0m \u001b[1m4s\u001b[0m 26ms/step - accuracy: 0.7451 - loss: 0.5098 - recall: 0.7914 - val_accuracy: 0.7531 - val_loss: 0.4786 - val_recall: 0.7935\n",
      "Epoch 16/150\n",
      "\u001b[1m139/139\u001b[0m \u001b[32m━━━━━━━━━━━━━━━━━━━━\u001b[0m\u001b[37m\u001b[0m \u001b[1m4s\u001b[0m 26ms/step - accuracy: 0.7595 - loss: 0.4887 - recall: 0.8108 - val_accuracy: 0.7738 - val_loss: 0.4727 - val_recall: 0.8079\n",
      "Epoch 17/150\n",
      "\u001b[1m139/139\u001b[0m \u001b[32m━━━━━━━━━━━━━━━━━━━━\u001b[0m\u001b[37m\u001b[0m \u001b[1m4s\u001b[0m 27ms/step - accuracy: 0.7495 - loss: 0.5071 - recall: 0.8045 - val_accuracy: 0.7711 - val_loss: 0.4811 - val_recall: 0.7433\n",
      "Epoch 18/150\n",
      "\u001b[1m139/139\u001b[0m \u001b[32m━━━━━━━━━━━━━━━━━━━━\u001b[0m\u001b[37m\u001b[0m \u001b[1m4s\u001b[0m 26ms/step - accuracy: 0.7612 - loss: 0.4940 - recall: 0.7860 - val_accuracy: 0.7711 - val_loss: 0.4803 - val_recall: 0.7253\n",
      "Epoch 19/150\n",
      "\u001b[1m139/139\u001b[0m \u001b[32m━━━━━━━━━━━━━━━━━━━━\u001b[0m\u001b[37m\u001b[0m \u001b[1m4s\u001b[0m 27ms/step - accuracy: 0.7728 - loss: 0.4847 - recall: 0.8060 - val_accuracy: 0.7693 - val_loss: 0.4753 - val_recall: 0.7864\n",
      "Epoch 20/150\n",
      "\u001b[1m139/139\u001b[0m \u001b[32m━━━━━━━━━━━━━━━━━━━━\u001b[0m\u001b[37m\u001b[0m \u001b[1m4s\u001b[0m 27ms/step - accuracy: 0.7646 - loss: 0.4944 - recall: 0.8043 - val_accuracy: 0.7729 - val_loss: 0.4667 - val_recall: 0.8528\n",
      "Epoch 21/150\n",
      "\u001b[1m139/139\u001b[0m \u001b[32m━━━━━━━━━━━━━━━━━━━━\u001b[0m\u001b[37m\u001b[0m \u001b[1m4s\u001b[0m 27ms/step - accuracy: 0.7658 - loss: 0.4751 - recall: 0.8221 - val_accuracy: 0.7531 - val_loss: 0.4840 - val_recall: 0.7343\n",
      "Epoch 22/150\n",
      "\u001b[1m139/139\u001b[0m \u001b[32m━━━━━━━━━━━━━━━━━━━━\u001b[0m\u001b[37m\u001b[0m \u001b[1m4s\u001b[0m 27ms/step - accuracy: 0.7560 - loss: 0.4873 - recall: 0.7876 - val_accuracy: 0.7747 - val_loss: 0.4745 - val_recall: 0.7415\n",
      "Epoch 23/150\n",
      "\u001b[1m139/139\u001b[0m \u001b[32m━━━━━━━━━━━━━━━━━━━━\u001b[0m\u001b[37m\u001b[0m \u001b[1m4s\u001b[0m 28ms/step - accuracy: 0.7625 - loss: 0.4866 - recall: 0.7929 - val_accuracy: 0.7666 - val_loss: 0.4676 - val_recall: 0.7738\n",
      "Epoch 24/150\n",
      "\u001b[1m139/139\u001b[0m \u001b[32m━━━━━━━━━━━━━━━━━━━━\u001b[0m\u001b[37m\u001b[0m \u001b[1m4s\u001b[0m 28ms/step - accuracy: 0.7627 - loss: 0.4824 - recall: 0.7978 - val_accuracy: 0.7576 - val_loss: 0.4743 - val_recall: 0.8869\n",
      "Epoch 25/150\n",
      "\u001b[1m139/139\u001b[0m \u001b[32m━━━━━━━━━━━━━━━━━━━━\u001b[0m\u001b[37m\u001b[0m \u001b[1m4s\u001b[0m 28ms/step - accuracy: 0.7635 - loss: 0.4903 - recall: 0.8206 - val_accuracy: 0.7774 - val_loss: 0.4716 - val_recall: 0.7971\n",
      "Epoch 26/150\n",
      "\u001b[1m139/139\u001b[0m \u001b[32m━━━━━━━━━━━━━━━━━━━━\u001b[0m\u001b[37m\u001b[0m \u001b[1m4s\u001b[0m 27ms/step - accuracy: 0.7753 - loss: 0.4801 - recall: 0.8003 - val_accuracy: 0.7594 - val_loss: 0.4618 - val_recall: 0.7558\n",
      "Epoch 27/150\n",
      "\u001b[1m139/139\u001b[0m \u001b[32m━━━━━━━━━━━━━━━━━━━━\u001b[0m\u001b[37m\u001b[0m \u001b[1m4s\u001b[0m 28ms/step - accuracy: 0.7762 - loss: 0.4703 - recall: 0.8309 - val_accuracy: 0.7765 - val_loss: 0.4573 - val_recall: 0.7971\n",
      "Epoch 28/150\n",
      "\u001b[1m139/139\u001b[0m \u001b[32m━━━━━━━━━━━━━━━━━━━━\u001b[0m\u001b[37m\u001b[0m \u001b[1m4s\u001b[0m 27ms/step - accuracy: 0.7649 - loss: 0.4845 - recall: 0.8095 - val_accuracy: 0.7675 - val_loss: 0.4716 - val_recall: 0.8779\n",
      "Epoch 29/150\n",
      "\u001b[1m139/139\u001b[0m \u001b[32m━━━━━━━━━━━━━━━━━━━━\u001b[0m\u001b[37m\u001b[0m \u001b[1m4s\u001b[0m 28ms/step - accuracy: 0.7715 - loss: 0.4602 - recall: 0.8231 - val_accuracy: 0.7792 - val_loss: 0.4636 - val_recall: 0.7469\n",
      "Epoch 30/150\n",
      "\u001b[1m139/139\u001b[0m \u001b[32m━━━━━━━━━━━━━━━━━━━━\u001b[0m\u001b[37m\u001b[0m \u001b[1m4s\u001b[0m 28ms/step - accuracy: 0.7637 - loss: 0.4888 - recall: 0.7891 - val_accuracy: 0.7711 - val_loss: 0.4641 - val_recall: 0.8402\n",
      "Epoch 31/150\n",
      "\u001b[1m139/139\u001b[0m \u001b[32m━━━━━━━━━━━━━━━━━━━━\u001b[0m\u001b[37m\u001b[0m \u001b[1m4s\u001b[0m 32ms/step - accuracy: 0.7819 - loss: 0.4643 - recall: 0.8221 - val_accuracy: 0.7657 - val_loss: 0.4713 - val_recall: 0.8097\n",
      "Epoch 32/150\n",
      "\u001b[1m139/139\u001b[0m \u001b[32m━━━━━━━━━━━━━━━━━━━━\u001b[0m\u001b[37m\u001b[0m \u001b[1m4s\u001b[0m 27ms/step - accuracy: 0.7506 - loss: 0.4942 - recall: 0.7910 - val_accuracy: 0.7630 - val_loss: 0.4726 - val_recall: 0.8546\n",
      "Epoch 33/150\n",
      "\u001b[1m139/139\u001b[0m \u001b[32m━━━━━━━━━━━━━━━━━━━━\u001b[0m\u001b[37m\u001b[0m \u001b[1m4s\u001b[0m 28ms/step - accuracy: 0.7595 - loss: 0.4786 - recall: 0.7942 - val_accuracy: 0.7738 - val_loss: 0.4584 - val_recall: 0.7864\n",
      "Epoch 34/150\n",
      "\u001b[1m139/139\u001b[0m \u001b[32m━━━━━━━━━━━━━━━━━━━━\u001b[0m\u001b[37m\u001b[0m \u001b[1m4s\u001b[0m 28ms/step - accuracy: 0.7754 - loss: 0.4676 - recall: 0.8032 - val_accuracy: 0.7810 - val_loss: 0.4487 - val_recall: 0.8528\n",
      "Epoch 35/150\n",
      "\u001b[1m139/139\u001b[0m \u001b[32m━━━━━━━━━━━━━━━━━━━━\u001b[0m\u001b[37m\u001b[0m \u001b[1m4s\u001b[0m 28ms/step - accuracy: 0.7640 - loss: 0.4737 - recall: 0.7953 - val_accuracy: 0.7837 - val_loss: 0.4525 - val_recall: 0.8330\n",
      "Epoch 36/150\n",
      "\u001b[1m139/139\u001b[0m \u001b[32m━━━━━━━━━━━━━━━━━━━━\u001b[0m\u001b[37m\u001b[0m \u001b[1m4s\u001b[0m 28ms/step - accuracy: 0.7620 - loss: 0.4823 - recall: 0.8041 - val_accuracy: 0.7846 - val_loss: 0.4472 - val_recall: 0.8456\n",
      "Epoch 37/150\n",
      "\u001b[1m139/139\u001b[0m \u001b[32m━━━━━━━━━━━━━━━━━━━━\u001b[0m\u001b[37m\u001b[0m \u001b[1m4s\u001b[0m 28ms/step - accuracy: 0.7676 - loss: 0.4827 - recall: 0.8201 - val_accuracy: 0.7756 - val_loss: 0.4696 - val_recall: 0.7271\n",
      "Epoch 38/150\n",
      "\u001b[1m139/139\u001b[0m \u001b[32m━━━━━━━━━━━━━━━━━━━━\u001b[0m\u001b[37m\u001b[0m \u001b[1m4s\u001b[0m 28ms/step - accuracy: 0.7808 - loss: 0.4633 - recall: 0.7929 - val_accuracy: 0.7747 - val_loss: 0.4504 - val_recall: 0.8492\n",
      "Epoch 39/150\n",
      "\u001b[1m139/139\u001b[0m \u001b[32m━━━━━━━━━━━━━━━━━━━━\u001b[0m\u001b[37m\u001b[0m \u001b[1m4s\u001b[0m 28ms/step - accuracy: 0.7613 - loss: 0.4834 - recall: 0.8080 - val_accuracy: 0.7621 - val_loss: 0.4792 - val_recall: 0.9031\n",
      "Epoch 40/150\n",
      "\u001b[1m139/139\u001b[0m \u001b[32m━━━━━━━━━━━━━━━━━━━━\u001b[0m\u001b[37m\u001b[0m \u001b[1m4s\u001b[0m 28ms/step - accuracy: 0.7706 - loss: 0.4699 - recall: 0.8214 - val_accuracy: 0.7801 - val_loss: 0.4613 - val_recall: 0.8582\n",
      "Epoch 41/150\n",
      "\u001b[1m139/139\u001b[0m \u001b[32m━━━━━━━━━━━━━━━━━━━━\u001b[0m\u001b[37m\u001b[0m \u001b[1m4s\u001b[0m 28ms/step - accuracy: 0.7834 - loss: 0.4520 - recall: 0.8149 - val_accuracy: 0.7684 - val_loss: 0.4544 - val_recall: 0.8564\n",
      "Epoch 42/150\n",
      "\u001b[1m139/139\u001b[0m \u001b[32m━━━━━━━━━━━━━━━━━━━━\u001b[0m\u001b[37m\u001b[0m \u001b[1m4s\u001b[0m 29ms/step - accuracy: 0.7716 - loss: 0.4723 - recall: 0.8154 - val_accuracy: 0.7747 - val_loss: 0.4547 - val_recall: 0.8528\n",
      "Epoch 43/150\n",
      "\u001b[1m139/139\u001b[0m \u001b[32m━━━━━━━━━━━━━━━━━━━━\u001b[0m\u001b[37m\u001b[0m \u001b[1m4s\u001b[0m 28ms/step - accuracy: 0.7797 - loss: 0.4630 - recall: 0.8248 - val_accuracy: 0.7738 - val_loss: 0.4576 - val_recall: 0.8169\n",
      "Epoch 44/150\n",
      "\u001b[1m139/139\u001b[0m \u001b[32m━━━━━━━━━━━━━━━━━━━━\u001b[0m\u001b[37m\u001b[0m \u001b[1m4s\u001b[0m 28ms/step - accuracy: 0.7833 - loss: 0.4657 - recall: 0.8360 - val_accuracy: 0.7873 - val_loss: 0.4526 - val_recall: 0.7792\n",
      "Epoch 45/150\n",
      "\u001b[1m139/139\u001b[0m \u001b[32m━━━━━━━━━━━━━━━━━━━━\u001b[0m\u001b[37m\u001b[0m \u001b[1m4s\u001b[0m 28ms/step - accuracy: 0.7825 - loss: 0.4518 - recall: 0.8184 - val_accuracy: 0.7702 - val_loss: 0.4615 - val_recall: 0.8133\n",
      "Epoch 46/150\n",
      "\u001b[1m139/139\u001b[0m \u001b[32m━━━━━━━━━━━━━━━━━━━━\u001b[0m\u001b[37m\u001b[0m \u001b[1m5s\u001b[0m 33ms/step - accuracy: 0.7587 - loss: 0.4849 - recall: 0.7748 - val_accuracy: 0.7837 - val_loss: 0.4567 - val_recall: 0.7774\n"
     ]
    }
   ],
   "source": [
    "datagen = ImageDataGenerator(\n",
    "    rotation_range=20,       \n",
    "    width_shift_range=0.1,   \n",
    "    height_shift_range=0.1,  \n",
    "    shear_range=0.2,         \n",
    "    zoom_range=0.2,          \n",
    "    horizontal_flip=True,    \n",
    "    fill_mode='nearest'      \n",
    ")\n",
    "\n",
    "\n",
    "datagen.fit(X_train4)\n",
    "\n",
    "\n",
    "history_gen = modelo4.fit(datagen.flow(X_train4, y_train4, batch_size=32), epochs=150, validation_data=(X_test4, y_test4),\n",
    "                          callbacks = [checkpoint4, early_stopping4])"
   ]
  },
  {
   "cell_type": "code",
   "execution_count": 63,
   "metadata": {},
   "outputs": [
    {
     "name": "stdout",
     "output_type": "stream",
     "text": [
      "\u001b[1m35/35\u001b[0m \u001b[32m━━━━━━━━━━━━━━━━━━━━\u001b[0m\u001b[37m\u001b[0m \u001b[1m0s\u001b[0m 8ms/step\n",
      "Accuracy score: 0.78\n",
      "Recall score: 0.777\n",
      "Precision: 0.787\n",
      "AUC-ROC score: 0.865\n"
     ]
    }
   ],
   "source": [
    "from sklearn.metrics import accuracy_score,recall_score,roc_auc_score, precision_score\n",
    "\n",
    "y_pred_proba4 = modelo4.predict(X_test4)\n",
    "y_pred4 = (y_pred_proba4 > 0.5).astype(int)  \n",
    "\n",
    "\n",
    "accuracy4 = accuracy_score(y_test4, y_pred4)\n",
    "recall4 = recall_score(y_test4, y_pred4)\n",
    "precision4 = precision_score(y_test4, y_pred4)\n",
    "auc4 = roc_auc_score(y_test4, y_pred_proba4)  \n",
    "\n",
    "\n",
    "\n",
    "print(\"Accuracy score:\", round(accuracy4, 2))\n",
    "print(\"Recall score:\", round(recall4, 3))\n",
    "print('Precision:', round(precision4,3))\n",
    "print(\"AUC-ROC score:\", round(auc4, 3))"
   ]
  },
  {
   "cell_type": "code",
   "execution_count": 64,
   "metadata": {},
   "outputs": [
    {
     "data": {
      "image/png": "[encoded data removed]",
      "text/plain": [
       "<Figure size 640x480 with 2 Axes>"
      ]
     },
     "metadata": {},
     "output_type": "display_data"
    }
   ],
   "source": [
    "from sklearn.metrics import confusion_matrix, ConfusionMatrixDisplay\n",
    "\n",
    "\n",
    "cm = confusion_matrix(y_test4, y_pred4)\n",
    "cm_percent = cm.astype('float') / cm.sum(axis=1)[:, np.newaxis] * 100\n",
    "disp = ConfusionMatrixDisplay(confusion_matrix=cm_percent)\n",
    "disp.plot(cmap=plt.cm.Blues, values_format='.1f')  \n",
    "plt.title('Resultados de predicción en porcentajes')\n",
    "plt.xlabel('Predicción')\n",
    "plt.ylabel('Real')\n",
    "plt.show()"
   ]
  },
  {
   "cell_type": "code",
   "execution_count": 41,
   "metadata": {},
   "outputs": [
    {
     "data": {
      "image/png": "[encoded data removed]",
      "text/plain": [
       "<Figure size 640x480 with 1 Axes>"
      ]
     },
     "metadata": {},
     "output_type": "display_data"
    }
   ],
   "source": [
    "proba_class_1 = y_pred_proba4\n",
    "\n",
    "plt.hist(proba_class_1[y_test4 == 1], bins=50, alpha=0.7, label='Clase 1 (Real)')\n",
    "plt.hist(proba_class_1[y_test4 == 0], bins=50, alpha=0.7, label='Clase 0 (Real)')\n",
    "plt.xlabel('Probabilidad predicha')\n",
    "plt.ylabel('Frecuencia')\n",
    "plt.legend(loc='upper right')\n",
    "plt.title('Distribución de Probabilidades Predichas para la Clase 1')\n",
    "plt.show()"
   ]
  },
  {
   "cell_type": "code",
   "execution_count": 25,
   "metadata": {},
   "outputs": [],
   "source": [
    "#Exportar Modelo\n",
    "'''import pickle\n",
    "\n",
    "with open('trained_model_4.pkl', 'wb') as file:\n",
    "    pickle.dump(modelo4, file)'''"
   ]
  },
  {
   "cell_type": "markdown",
   "metadata": {},
   "source": [
    "### 📌 Modelo 5"
   ]
  },
  {
   "cell_type": "code",
   "execution_count": null,
   "metadata": {},
   "outputs": [],
   "source": [
    "# Función para cargar y preprocesar imágenes\n",
    "def limpiar_img5(img_path):\n",
    "    img = cv.imread(img_path, cv.IMREAD_GRAYSCALE) \n",
    "    img = cv.resize(img, (60, 60))\n",
    "    img = img.astype(np.uint8)  \n",
    "    img = cv.equalizeHist(img)  \n",
    "    img = np.expand_dims(img, axis=-1)  \n",
    "    img = img / 255.0  \n",
    "    return img"
   ]
  },
  {
   "cell_type": "code",
   "execution_count": null,
   "metadata": {},
   "outputs": [],
   "source": [
    "X_train5 = np.array([limpiar_img5(img) for img in train_imgs])\n",
    "y_train5 = np.array(train_labels)\n",
    "\n",
    "X_test5 = np.array([limpiar_img5(img) for img in test_imgs])\n",
    "y_test5 = np.array(test_labels)"
   ]
  },
  {
   "cell_type": "code",
   "execution_count": null,
   "metadata": {},
   "outputs": [
    {
     "name": "stderr",
     "output_type": "stream",
     "text": [
      "/Library/Frameworks/Python.framework/Versions/3.10/lib/python3.10/site-packages/keras/src/layers/convolutional/base_conv.py:107: UserWarning: Do not pass an `input_shape`/`input_dim` argument to a layer. When using Sequential models, prefer using an `Input(shape)` object as the first layer in the model instead.\n",
      "  super().__init__(activity_regularizer=activity_regularizer, **kwargs)\n"
     ]
    }
   ],
   "source": [
    "modelo5 = Sequential([\n",
    "    Conv2D(32, (3, 3), activation='relu', input_shape=(60, 60, 1)),\n",
    "    BatchNormalization(),\n",
    "    MaxPooling2D((2, 2)),\n",
    "    \n",
    "    Conv2D(64, (3, 3), activation='relu'),\n",
    "    BatchNormalization(),\n",
    "    MaxPooling2D((2, 2)),\n",
    "    \n",
    "    Conv2D(128, (3, 3), activation='relu'),\n",
    "    BatchNormalization(),\n",
    "    MaxPooling2D((2, 2)),\n",
    "    \n",
    "    Flatten(),\n",
    "    Dense(128, activation='relu'),\n",
    "    Dropout(0.2),\n",
    "    Dense(1, activation='sigmoid')\n",
    "])"
   ]
  },
  {
   "cell_type": "code",
   "execution_count": null,
   "metadata": {},
   "outputs": [],
   "source": [
    "modelo5.compile(optimizer = Adam(learning_rate=0.001), loss='binary_crossentropy', metrics=['accuracy', 'Recall'])"
   ]
  },
  {
   "cell_type": "code",
   "execution_count": null,
   "metadata": {},
   "outputs": [],
   "source": [
    "from tensorflow import keras\n",
    "from keras.callbacks import  ModelCheckpoint, EarlyStopping, ReduceLROnPlateau\n",
    "\n",
    "checkpoint5= keras.callbacks.ModelCheckpoint(\"callback_model.keras\")\n",
    "early_stopping5 = keras.callbacks.EarlyStopping(patience=10, restore_best_weights=True)\n",
    "reduce_lr5 = ReduceLROnPlateau(factor=0.5, patience=5, min_lr=0.00001)"
   ]
  },
  {
   "cell_type": "code",
   "execution_count": null,
   "metadata": {},
   "outputs": [
    {
     "name": "stdout",
     "output_type": "stream",
     "text": [
      "Epoch 1/50\n",
      "\u001b[1m  1/139\u001b[0m \u001b[37m━━━━━━━━━━━━━━━━━━━━\u001b[0m \u001b[1m2:31\u001b[0m 1s/step - Recall: 0.0667 - accuracy: 0.4688 - loss: 1.2845"
     ]
    },
    {
     "name": "stderr",
     "output_type": "stream",
     "text": [
      "/Library/Frameworks/Python.framework/Versions/3.10/lib/python3.10/site-packages/keras/src/trainers/data_adapters/py_dataset_adapter.py:121: UserWarning: Your `PyDataset` class should call `super().__init__(**kwargs)` in its constructor. `**kwargs` can include `workers`, `use_multiprocessing`, `max_queue_size`. Do not pass these arguments to `fit()`, as they will be ignored.\n",
      "  self._warn_if_super_not_called()\n"
     ]
    },
    {
     "name": "stdout",
     "output_type": "stream",
     "text": [
      "\u001b[1m139/139\u001b[0m \u001b[32m━━━━━━━━━━━━━━━━━━━━\u001b[0m\u001b[37m\u001b[0m \u001b[1m10s\u001b[0m 63ms/step - Recall: 0.5822 - accuracy: 0.5551 - loss: 0.9335 - val_Recall: 0.7038 - val_accuracy: 0.6275 - val_loss: 0.6557 - learning_rate: 0.0010\n",
      "Epoch 2/50\n",
      "\u001b[1m139/139\u001b[0m \u001b[32m━━━━━━━━━━━━━━━━━━━━\u001b[0m\u001b[37m\u001b[0m \u001b[1m9s\u001b[0m 67ms/step - Recall: 0.7333 - accuracy: 0.6093 - loss: 0.6546 - val_Recall: 0.7451 - val_accuracy: 0.5655 - val_loss: 0.8587 - learning_rate: 0.0010\n",
      "Epoch 3/50\n",
      "\u001b[1m139/139\u001b[0m \u001b[32m━━━━━━━━━━━━━━━━━━━━\u001b[0m\u001b[37m\u001b[0m \u001b[1m9s\u001b[0m 64ms/step - Recall: 0.7214 - accuracy: 0.6251 - loss: 0.6425 - val_Recall: 0.7558 - val_accuracy: 0.6706 - val_loss: 0.6224 - learning_rate: 0.0010\n",
      "Epoch 4/50\n",
      "\u001b[1m139/139\u001b[0m \u001b[32m━━━━━━━━━━━━━━━━━━━━\u001b[0m\u001b[37m\u001b[0m \u001b[1m9s\u001b[0m 67ms/step - Recall: 0.6652 - accuracy: 0.6368 - loss: 0.6328 - val_Recall: 0.6715 - val_accuracy: 0.6697 - val_loss: 0.5935 - learning_rate: 0.0010\n",
      "Epoch 5/50\n",
      "\u001b[1m139/139\u001b[0m \u001b[32m━━━━━━━━━━━━━━━━━━━━\u001b[0m\u001b[37m\u001b[0m \u001b[1m11s\u001b[0m 80ms/step - Recall: 0.7613 - accuracy: 0.6576 - loss: 0.6107 - val_Recall: 0.9210 - val_accuracy: 0.6706 - val_loss: 0.5881 - learning_rate: 0.0010\n",
      "Epoch 6/50\n",
      "\u001b[1m139/139\u001b[0m \u001b[32m━━━━━━━━━━━━━━━━━━━━\u001b[0m\u001b[37m\u001b[0m \u001b[1m11s\u001b[0m 75ms/step - Recall: 0.7667 - accuracy: 0.6571 - loss: 0.6210 - val_Recall: 0.7289 - val_accuracy: 0.7056 - val_loss: 0.5772 - learning_rate: 0.0010\n",
      "Epoch 7/50\n",
      "\u001b[1m139/139\u001b[0m \u001b[32m━━━━━━━━━━━━━━━━━━━━\u001b[0m\u001b[37m\u001b[0m \u001b[1m8s\u001b[0m 58ms/step - Recall: 0.7413 - accuracy: 0.6754 - loss: 0.5961 - val_Recall: 0.6768 - val_accuracy: 0.6822 - val_loss: 0.5717 - learning_rate: 0.0010\n",
      "Epoch 8/50\n",
      "\u001b[1m139/139\u001b[0m \u001b[32m━━━━━━━━━━━━━━━━━━━━\u001b[0m\u001b[37m\u001b[0m \u001b[1m10s\u001b[0m 70ms/step - Recall: 0.7461 - accuracy: 0.6722 - loss: 0.5876 - val_Recall: 0.8905 - val_accuracy: 0.7110 - val_loss: 0.5485 - learning_rate: 0.0010\n",
      "Epoch 9/50\n",
      "\u001b[1m139/139\u001b[0m \u001b[32m━━━━━━━━━━━━━━━━━━━━\u001b[0m\u001b[37m\u001b[0m \u001b[1m9s\u001b[0m 65ms/step - Recall: 0.7469 - accuracy: 0.6775 - loss: 0.5905 - val_Recall: 0.8151 - val_accuracy: 0.7307 - val_loss: 0.5314 - learning_rate: 0.0010\n",
      "Epoch 10/50\n",
      "\u001b[1m139/139\u001b[0m \u001b[32m━━━━━━━━━━━━━━━━━━━━\u001b[0m\u001b[37m\u001b[0m \u001b[1m9s\u001b[0m 65ms/step - Recall: 0.7460 - accuracy: 0.6897 - loss: 0.5781 - val_Recall: 0.7289 - val_accuracy: 0.6966 - val_loss: 0.5676 - learning_rate: 0.0010\n",
      "Epoch 11/50\n",
      "\u001b[1m139/139\u001b[0m \u001b[32m━━━━━━━━━━━━━━━━━━━━\u001b[0m\u001b[37m\u001b[0m \u001b[1m10s\u001b[0m 71ms/step - Recall: 0.7539 - accuracy: 0.7122 - loss: 0.5624 - val_Recall: 0.7666 - val_accuracy: 0.7101 - val_loss: 0.5483 - learning_rate: 0.0010\n",
      "Epoch 12/50\n",
      "\u001b[1m139/139\u001b[0m \u001b[32m━━━━━━━━━━━━━━━━━━━━\u001b[0m\u001b[37m\u001b[0m \u001b[1m10s\u001b[0m 71ms/step - Recall: 0.7895 - accuracy: 0.7204 - loss: 0.5562 - val_Recall: 0.7756 - val_accuracy: 0.7110 - val_loss: 0.5453 - learning_rate: 0.0010\n",
      "Epoch 13/50\n",
      "\u001b[1m139/139\u001b[0m \u001b[32m━━━━━━━━━━━━━━━━━━━━\u001b[0m\u001b[37m\u001b[0m \u001b[1m8s\u001b[0m 59ms/step - Recall: 0.8056 - accuracy: 0.7036 - loss: 0.5624 - val_Recall: 0.6912 - val_accuracy: 0.6724 - val_loss: 0.5781 - learning_rate: 0.0010\n",
      "Epoch 14/50\n",
      "\u001b[1m139/139\u001b[0m \u001b[32m━━━━━━━━━━━━━━━━━━━━\u001b[0m\u001b[37m\u001b[0m \u001b[1m9s\u001b[0m 62ms/step - Recall: 0.8089 - accuracy: 0.7194 - loss: 0.5338 - val_Recall: 0.5889 - val_accuracy: 0.7056 - val_loss: 0.5825 - learning_rate: 0.0010\n",
      "Epoch 15/50\n",
      "\u001b[1m139/139\u001b[0m \u001b[32m━━━━━━━━━━━━━━━━━━━━\u001b[0m\u001b[37m\u001b[0m \u001b[1m8s\u001b[0m 59ms/step - Recall: 0.8035 - accuracy: 0.7195 - loss: 0.5483 - val_Recall: 0.7720 - val_accuracy: 0.7549 - val_loss: 0.4906 - learning_rate: 5.0000e-04\n",
      "Epoch 16/50\n",
      "\u001b[1m139/139\u001b[0m \u001b[32m━━━━━━━━━━━━━━━━━━━━\u001b[0m\u001b[37m\u001b[0m \u001b[1m9s\u001b[0m 63ms/step - Recall: 0.7827 - accuracy: 0.7248 - loss: 0.5196 - val_Recall: 0.9300 - val_accuracy: 0.7298 - val_loss: 0.5159 - learning_rate: 5.0000e-04\n",
      "Epoch 17/50\n",
      "\u001b[1m139/139\u001b[0m \u001b[32m━━━━━━━━━━━━━━━━━━━━\u001b[0m\u001b[37m\u001b[0m \u001b[1m8s\u001b[0m 59ms/step - Recall: 0.8037 - accuracy: 0.7377 - loss: 0.5167 - val_Recall: 0.7199 - val_accuracy: 0.7307 - val_loss: 0.5148 - learning_rate: 5.0000e-04\n",
      "Epoch 18/50\n",
      "\u001b[1m139/139\u001b[0m \u001b[32m━━━━━━━━━━━━━━━━━━━━\u001b[0m\u001b[37m\u001b[0m \u001b[1m9s\u001b[0m 62ms/step - Recall: 0.8013 - accuracy: 0.7288 - loss: 0.5242 - val_Recall: 0.8582 - val_accuracy: 0.7415 - val_loss: 0.5051 - learning_rate: 5.0000e-04\n",
      "Epoch 19/50\n",
      "\u001b[1m139/139\u001b[0m \u001b[32m━━━━━━━━━━━━━━━━━━━━\u001b[0m\u001b[37m\u001b[0m \u001b[1m9s\u001b[0m 63ms/step - Recall: 0.8087 - accuracy: 0.7489 - loss: 0.5131 - val_Recall: 0.8097 - val_accuracy: 0.7522 - val_loss: 0.4934 - learning_rate: 5.0000e-04\n",
      "Epoch 20/50\n",
      "\u001b[1m139/139\u001b[0m \u001b[32m━━━━━━━━━━━━━━━━━━━━\u001b[0m\u001b[37m\u001b[0m \u001b[1m10s\u001b[0m 75ms/step - Recall: 0.8080 - accuracy: 0.7550 - loss: 0.4978 - val_Recall: 0.8797 - val_accuracy: 0.7118 - val_loss: 0.5357 - learning_rate: 5.0000e-04\n",
      "Epoch 21/50\n",
      "\u001b[1m139/139\u001b[0m \u001b[32m━━━━━━━━━━━━━━━━━━━━\u001b[0m\u001b[37m\u001b[0m \u001b[1m11s\u001b[0m 80ms/step - Recall: 0.8221 - accuracy: 0.7594 - loss: 0.4994 - val_Recall: 0.9264 - val_accuracy: 0.7190 - val_loss: 0.5343 - learning_rate: 2.5000e-04\n",
      "Epoch 22/50\n",
      "\u001b[1m139/139\u001b[0m \u001b[32m━━━━━━━━━━━━━━━━━━━━\u001b[0m\u001b[37m\u001b[0m \u001b[1m11s\u001b[0m 78ms/step - Recall: 0.8236 - accuracy: 0.7525 - loss: 0.5046 - val_Recall: 0.8995 - val_accuracy: 0.7379 - val_loss: 0.5075 - learning_rate: 2.5000e-04\n",
      "Epoch 23/50\n",
      "\u001b[1m139/139\u001b[0m \u001b[32m━━━━━━━━━━━━━━━━━━━━\u001b[0m\u001b[37m\u001b[0m \u001b[1m11s\u001b[0m 78ms/step - Recall: 0.8076 - accuracy: 0.7567 - loss: 0.5016 - val_Recall: 0.7469 - val_accuracy: 0.7406 - val_loss: 0.4952 - learning_rate: 2.5000e-04\n",
      "Epoch 24/50\n",
      "\u001b[1m139/139\u001b[0m \u001b[32m━━━━━━━━━━━━━━━━━━━━\u001b[0m\u001b[37m\u001b[0m \u001b[1m9s\u001b[0m 63ms/step - Recall: 0.8180 - accuracy: 0.7666 - loss: 0.4843 - val_Recall: 0.9390 - val_accuracy: 0.7110 - val_loss: 0.5508 - learning_rate: 2.5000e-04\n",
      "Epoch 25/50\n",
      "\u001b[1m139/139\u001b[0m \u001b[32m━━━━━━━━━━━━━━━━━━━━\u001b[0m\u001b[37m\u001b[0m \u001b[1m9s\u001b[0m 68ms/step - Recall: 0.8183 - accuracy: 0.7581 - loss: 0.4882 - val_Recall: 0.8815 - val_accuracy: 0.7531 - val_loss: 0.4933 - learning_rate: 2.5000e-04\n"
     ]
    }
   ],
   "source": [
    "datagen = ImageDataGenerator(\n",
    "    rotation_range=20,       \n",
    "    width_shift_range=0.1,  \n",
    "    height_shift_range=0.1,  \n",
    "    shear_range=0.2,         \n",
    "    zoom_range=0.2,          \n",
    "    horizontal_flip=True,   \n",
    "    fill_mode='nearest'      \n",
    ")\n",
    "\n",
    "\n",
    "datagen.fit(X_train5)\n",
    "\n",
    "\n",
    "history_gen = modelo5.fit(datagen.flow(X_train5, y_train5, batch_size=32), epochs=50, validation_data=(X_test5, y_test5),\n",
    "                          callbacks=[checkpoint5, early_stopping5, reduce_lr5])"
   ]
  },
  {
   "cell_type": "code",
   "execution_count": null,
   "metadata": {},
   "outputs": [
    {
     "name": "stdout",
     "output_type": "stream",
     "text": [
      "\u001b[1m35/35\u001b[0m \u001b[32m━━━━━━━━━━━━━━━━━━━━\u001b[0m\u001b[37m\u001b[0m \u001b[1m1s\u001b[0m 16ms/step\n",
      "Accuracy score: 0.755\n",
      "Recall score: 0.772\n",
      "AUC-ROC score: 0.841\n"
     ]
    }
   ],
   "source": [
    "from sklearn.metrics import accuracy_score,recall_score,\\\n",
    "                            roc_auc_score\n",
    "\n",
    "y_pred_proba5 = modelo5.predict(X_test5)\n",
    "y_pred5 = (y_pred_proba5 > 0.5).astype(int)  \n",
    "\n",
    "\n",
    "accuracy5 = accuracy_score(y_test5, y_pred5)\n",
    "recall5 = recall_score(y_test5, y_pred5)\n",
    "auc5 = roc_auc_score(y_test5, y_pred_proba5)\n",
    "\n",
    "\n",
    "\n",
    "print(\"Accuracy score:\", round(accuracy5, 3))\n",
    "print(\"Recall score:\", round(recall5, 3))\n",
    "print(\"AUC-ROC score:\", round(auc5, 3))"
   ]
  },
  {
   "cell_type": "code",
   "execution_count": null,
   "metadata": {},
   "outputs": [
    {
     "data": {
      "text/plain": [
       "\"import pickle\\n\\nwith open('trained_model_5.pkl', 'wb') as file:\\n    pickle.dump(modelo5, file)\""
      ]
     },
     "execution_count": 48,
     "metadata": {},
     "output_type": "execute_result"
    }
   ],
   "source": [
    "#Exportar Modelo\n",
    "'''import pickle\n",
    "\n",
    "with open('trained_model_5.pkl', 'wb') as file:\n",
    "    pickle.dump(modelo5, file)'''"
   ]
  },
  {
   "cell_type": "markdown",
   "metadata": {},
   "source": [
    "### 📌 Modelo 6 (No Supervisado)"
   ]
  },
  {
   "cell_type": "code",
   "execution_count": 8,
   "metadata": {},
   "outputs": [],
   "source": [
    "#Definir X\n",
    "X = np.array([limpiar_img4(img) for img in train_imgs])\n",
    "\n",
    "#Transformar\n",
    "n_samples_train, width_train, height_train, channels_train = X.shape\n",
    "X_reshape = X.reshape(n_samples_train, width_train * height_train * channels_train)"
   ]
  },
  {
   "cell_type": "code",
   "execution_count": 9,
   "metadata": {},
   "outputs": [],
   "source": [
    "modelo6 = KMeans(n_clusters=2, n_init=10, random_state=11)\n",
    "modelo6.fit(X_reshape)\n",
    "y_pred6 = modelo6.fit_predict(X_reshape)"
   ]
  },
  {
   "cell_type": "code",
   "execution_count": 12,
   "metadata": {},
   "outputs": [
    {
     "data": {
      "text/plain": [
       "0.07840143353923112"
      ]
     },
     "execution_count": 12,
     "metadata": {},
     "output_type": "execute_result"
    }
   ],
   "source": [
    "silhouette_score(X_reshape, y_pred6)"
   ]
  },
  {
   "cell_type": "code",
   "execution_count": 13,
   "metadata": {},
   "outputs": [
    {
     "data": {
      "image/png": "[encoded data removed]",
      "text/plain": [
       "<Figure size 640x480 with 1 Axes>"
      ]
     },
     "metadata": {},
     "output_type": "display_data"
    }
   ],
   "source": [
    "import matplotlib.pyplot as plt\n",
    "import seaborn as sns\n",
    "\n",
    "cluster_counts = pd.Series(y_pred6).value_counts()\n",
    "\n",
    "plt.pie(cluster_counts, labels=cluster_counts.index, autopct='%1.1f%%', startangle=140);"
   ]
  },
  {
   "cell_type": "code",
   "execution_count": 14,
   "metadata": {},
   "outputs": [],
   "source": [
    "'''import pickle\n",
    "with open('trained_model_6.pkl', 'wb') as file:\n",
    "    pickle.dump(modelo6, file)'''"
   ]
  },
  {
   "cell_type": "markdown",
   "metadata": {},
   "source": [
    "### 📌 Modelo 7 "
   ]
  },
  {
   "cell_type": "code",
   "execution_count": 6,
   "metadata": {},
   "outputs": [],
   "source": [
    "X_train7 = np.array([limpiar_img4(img) for img in train_imgs])\n",
    "y_train7 = np.array(train_labels)\n",
    "\n",
    "X_test7 = np.array([limpiar_img4(img) for img in test_imgs])\n",
    "y_test7 = np.array(test_labels)"
   ]
  },
  {
   "cell_type": "code",
   "execution_count": 7,
   "metadata": {},
   "outputs": [
    {
     "name": "stderr",
     "output_type": "stream",
     "text": [
      "/Library/Frameworks/Python.framework/Versions/3.10/lib/python3.10/site-packages/keras/src/layers/convolutional/base_conv.py:107: UserWarning: Do not pass an `input_shape`/`input_dim` argument to a layer. When using Sequential models, prefer using an `Input(shape)` object as the first layer in the model instead.\n",
      "  super().__init__(activity_regularizer=activity_regularizer, **kwargs)\n"
     ]
    }
   ],
   "source": [
    "modelo7 = Sequential([\n",
    "    Conv2D(128, (3, 3), activation='relu', input_shape=(50, 50, 1)),\n",
    "    MaxPooling2D((2, 2)),\n",
    "\n",
    "    Conv2D(64, (3, 3), activation='relu'),\n",
    "    MaxPooling2D((2, 2)),\n",
    "\n",
    "    Conv2D(32, (3, 3), activation='relu'),\n",
    "    MaxPooling2D((2, 2)),\n",
    "\n",
    "    Conv2D(16, (3, 3), activation='relu'),\n",
    "    MaxPooling2D((2, 2)),\n",
    "    \n",
    "    Flatten(),\n",
    "    Dense(50, activation='relu'),\n",
    "    Dropout(0.2),\n",
    "    Dense(1, activation='sigmoid')\n",
    "])"
   ]
  },
  {
   "cell_type": "code",
   "execution_count": 8,
   "metadata": {},
   "outputs": [],
   "source": [
    "modelo7.compile(optimizer='adam', loss='binary_crossentropy', metrics=['accuracy'])"
   ]
  },
  {
   "cell_type": "code",
   "execution_count": 13,
   "metadata": {},
   "outputs": [],
   "source": [
    "from tensorflow import keras\n",
    "from keras.callbacks import  ModelCheckpoint\n",
    "\n",
    "checkpoint7= keras.callbacks.ModelCheckpoint(\"callback_model.keras\")\n",
    "early_stopping7 = keras.callbacks.EarlyStopping(patience=10)"
   ]
  },
  {
   "cell_type": "code",
   "execution_count": 14,
   "metadata": {},
   "outputs": [
    {
     "name": "stdout",
     "output_type": "stream",
     "text": [
      "Epoch 1/70\n",
      "\u001b[1m  1/139\u001b[0m \u001b[37m━━━━━━━━━━━━━━━━━━━━\u001b[0m \u001b[1m32s\u001b[0m 234ms/step - accuracy: 0.7500 - loss: 0.5524"
     ]
    },
    {
     "name": "stderr",
     "output_type": "stream",
     "text": [
      "/Library/Frameworks/Python.framework/Versions/3.10/lib/python3.10/site-packages/keras/src/trainers/data_adapters/py_dataset_adapter.py:121: UserWarning: Your `PyDataset` class should call `super().__init__(**kwargs)` in its constructor. `**kwargs` can include `workers`, `use_multiprocessing`, `max_queue_size`. Do not pass these arguments to `fit()`, as they will be ignored.\n",
      "  self._warn_if_super_not_called()\n"
     ]
    },
    {
     "name": "stdout",
     "output_type": "stream",
     "text": [
      "\u001b[1m139/139\u001b[0m \u001b[32m━━━━━━━━━━━━━━━━━━━━\u001b[0m\u001b[37m\u001b[0m \u001b[1m21s\u001b[0m 147ms/step - accuracy: 0.7373 - loss: 0.5067 - val_accuracy: 0.7496 - val_loss: 0.4945\n",
      "Epoch 2/70\n",
      "\u001b[1m139/139\u001b[0m \u001b[32m━━━━━━━━━━━━━━━━━━━━\u001b[0m\u001b[37m\u001b[0m \u001b[1m22s\u001b[0m 154ms/step - accuracy: 0.7382 - loss: 0.5073 - val_accuracy: 0.7406 - val_loss: 0.4949\n",
      "Epoch 3/70\n",
      "\u001b[1m139/139\u001b[0m \u001b[32m━━━━━━━━━━━━━━━━━━━━\u001b[0m\u001b[37m\u001b[0m \u001b[1m21s\u001b[0m 150ms/step - accuracy: 0.7545 - loss: 0.5030 - val_accuracy: 0.7540 - val_loss: 0.4930\n",
      "Epoch 4/70\n",
      "\u001b[1m139/139\u001b[0m \u001b[32m━━━━━━━━━━━━━━━━━━━━\u001b[0m\u001b[37m\u001b[0m \u001b[1m20s\u001b[0m 141ms/step - accuracy: 0.7515 - loss: 0.5053 - val_accuracy: 0.7504 - val_loss: 0.4976\n",
      "Epoch 5/70\n",
      "\u001b[1m139/139\u001b[0m \u001b[32m━━━━━━━━━━━━━━━━━━━━\u001b[0m\u001b[37m\u001b[0m \u001b[1m19s\u001b[0m 139ms/step - accuracy: 0.7417 - loss: 0.5126 - val_accuracy: 0.7621 - val_loss: 0.4927\n",
      "Epoch 6/70\n",
      "\u001b[1m139/139\u001b[0m \u001b[32m━━━━━━━━━━━━━━━━━━━━\u001b[0m\u001b[37m\u001b[0m \u001b[1m19s\u001b[0m 138ms/step - accuracy: 0.7587 - loss: 0.5045 - val_accuracy: 0.7522 - val_loss: 0.4949\n",
      "Epoch 7/70\n",
      "\u001b[1m139/139\u001b[0m \u001b[32m━━━━━━━━━━━━━━━━━━━━\u001b[0m\u001b[37m\u001b[0m \u001b[1m12s\u001b[0m 87ms/step - accuracy: 0.7452 - loss: 0.5080 - val_accuracy: 0.7567 - val_loss: 0.4918\n",
      "Epoch 8/70\n",
      "\u001b[1m139/139\u001b[0m \u001b[32m━━━━━━━━━━━━━━━━━━━━\u001b[0m\u001b[37m\u001b[0m \u001b[1m12s\u001b[0m 84ms/step - accuracy: 0.7504 - loss: 0.5050 - val_accuracy: 0.7540 - val_loss: 0.4884\n",
      "Epoch 9/70\n",
      "\u001b[1m139/139\u001b[0m \u001b[32m━━━━━━━━━━━━━━━━━━━━\u001b[0m\u001b[37m\u001b[0m \u001b[1m11s\u001b[0m 77ms/step - accuracy: 0.7562 - loss: 0.4811 - val_accuracy: 0.7406 - val_loss: 0.4965\n",
      "Epoch 10/70\n",
      "\u001b[1m139/139\u001b[0m \u001b[32m━━━━━━━━━━━━━━━━━━━━\u001b[0m\u001b[37m\u001b[0m \u001b[1m12s\u001b[0m 85ms/step - accuracy: 0.7521 - loss: 0.4949 - val_accuracy: 0.7558 - val_loss: 0.4884\n",
      "Epoch 11/70\n",
      "\u001b[1m139/139\u001b[0m \u001b[32m━━━━━━━━━━━━━━━━━━━━\u001b[0m\u001b[37m\u001b[0m \u001b[1m12s\u001b[0m 83ms/step - accuracy: 0.7519 - loss: 0.5069 - val_accuracy: 0.7522 - val_loss: 0.4915\n",
      "Epoch 12/70\n",
      "\u001b[1m139/139\u001b[0m \u001b[32m━━━━━━━━━━━━━━━━━━━━\u001b[0m\u001b[37m\u001b[0m \u001b[1m12s\u001b[0m 82ms/step - accuracy: 0.7471 - loss: 0.5072 - val_accuracy: 0.7513 - val_loss: 0.4902\n",
      "Epoch 13/70\n",
      "\u001b[1m139/139\u001b[0m \u001b[32m━━━━━━━━━━━━━━━━━━━━\u001b[0m\u001b[37m\u001b[0m \u001b[1m11s\u001b[0m 82ms/step - accuracy: 0.7583 - loss: 0.4950 - val_accuracy: 0.7504 - val_loss: 0.4886\n",
      "Epoch 14/70\n",
      "\u001b[1m139/139\u001b[0m \u001b[32m━━━━━━━━━━━━━━━━━━━━\u001b[0m\u001b[37m\u001b[0m \u001b[1m12s\u001b[0m 82ms/step - accuracy: 0.7527 - loss: 0.4933 - val_accuracy: 0.7280 - val_loss: 0.5288\n",
      "Epoch 15/70\n",
      "\u001b[1m139/139\u001b[0m \u001b[32m━━━━━━━━━━━━━━━━━━━━\u001b[0m\u001b[37m\u001b[0m \u001b[1m12s\u001b[0m 84ms/step - accuracy: 0.7571 - loss: 0.4868 - val_accuracy: 0.7388 - val_loss: 0.4918\n",
      "Epoch 16/70\n",
      "\u001b[1m139/139\u001b[0m \u001b[32m━━━━━━━━━━━━━━━━━━━━\u001b[0m\u001b[37m\u001b[0m \u001b[1m13s\u001b[0m 90ms/step - accuracy: 0.7431 - loss: 0.5099 - val_accuracy: 0.7424 - val_loss: 0.4967\n",
      "Epoch 17/70\n",
      "\u001b[1m139/139\u001b[0m \u001b[32m━━━━━━━━━━━━━━━━━━━━\u001b[0m\u001b[37m\u001b[0m \u001b[1m12s\u001b[0m 86ms/step - accuracy: 0.7510 - loss: 0.4934 - val_accuracy: 0.7451 - val_loss: 0.5019\n",
      "Epoch 18/70\n",
      "\u001b[1m139/139\u001b[0m \u001b[32m━━━━━━━━━━━━━━━━━━━━\u001b[0m\u001b[37m\u001b[0m \u001b[1m13s\u001b[0m 90ms/step - accuracy: 0.7641 - loss: 0.4863 - val_accuracy: 0.7406 - val_loss: 0.5054\n",
      "Epoch 19/70\n",
      "\u001b[1m139/139\u001b[0m \u001b[32m━━━━━━━━━━━━━━━━━━━━\u001b[0m\u001b[37m\u001b[0m \u001b[1m12s\u001b[0m 89ms/step - accuracy: 0.7421 - loss: 0.5070 - val_accuracy: 0.7478 - val_loss: 0.4963\n",
      "Epoch 20/70\n",
      "\u001b[1m139/139\u001b[0m \u001b[32m━━━━━━━━━━━━━━━━━━━━\u001b[0m\u001b[37m\u001b[0m \u001b[1m14s\u001b[0m 101ms/step - accuracy: 0.7642 - loss: 0.5000 - val_accuracy: 0.7576 - val_loss: 0.4912\n",
      "Epoch 21/70\n",
      "\u001b[1m139/139\u001b[0m \u001b[32m━━━━━━━━━━━━━━━━━━━━\u001b[0m\u001b[37m\u001b[0m \u001b[1m13s\u001b[0m 93ms/step - accuracy: 0.7502 - loss: 0.5059 - val_accuracy: 0.7487 - val_loss: 0.5070\n",
      "Epoch 22/70\n",
      "\u001b[1m139/139\u001b[0m \u001b[32m━━━━━━━━━━━━━━━━━━━━\u001b[0m\u001b[37m\u001b[0m \u001b[1m19s\u001b[0m 136ms/step - accuracy: 0.7586 - loss: 0.4896 - val_accuracy: 0.7567 - val_loss: 0.4831\n",
      "Epoch 23/70\n",
      "\u001b[1m139/139\u001b[0m \u001b[32m━━━━━━━━━━━━━━━━━━━━\u001b[0m\u001b[37m\u001b[0m \u001b[1m23s\u001b[0m 168ms/step - accuracy: 0.7617 - loss: 0.4994 - val_accuracy: 0.7487 - val_loss: 0.5194\n",
      "Epoch 24/70\n",
      "\u001b[1m139/139\u001b[0m \u001b[32m━━━━━━━━━━━━━━━━━━━━\u001b[0m\u001b[37m\u001b[0m \u001b[1m23s\u001b[0m 166ms/step - accuracy: 0.7595 - loss: 0.5054 - val_accuracy: 0.7558 - val_loss: 0.4862\n",
      "Epoch 25/70\n",
      "\u001b[1m139/139\u001b[0m \u001b[32m━━━━━━━━━━━━━━━━━━━━\u001b[0m\u001b[37m\u001b[0m \u001b[1m22s\u001b[0m 159ms/step - accuracy: 0.7585 - loss: 0.4846 - val_accuracy: 0.7603 - val_loss: 0.4946\n",
      "Epoch 26/70\n",
      "\u001b[1m139/139\u001b[0m \u001b[32m━━━━━━━━━━━━━━━━━━━━\u001b[0m\u001b[37m\u001b[0m \u001b[1m23s\u001b[0m 168ms/step - accuracy: 0.7570 - loss: 0.4879 - val_accuracy: 0.7522 - val_loss: 0.4858\n",
      "Epoch 27/70\n",
      "\u001b[1m139/139\u001b[0m \u001b[32m━━━━━━━━━━━━━━━━━━━━\u001b[0m\u001b[37m\u001b[0m \u001b[1m23s\u001b[0m 165ms/step - accuracy: 0.7572 - loss: 0.4904 - val_accuracy: 0.7487 - val_loss: 0.4916\n",
      "Epoch 28/70\n",
      "\u001b[1m139/139\u001b[0m \u001b[32m━━━━━━━━━━━━━━━━━━━━\u001b[0m\u001b[37m\u001b[0m \u001b[1m23s\u001b[0m 165ms/step - accuracy: 0.7634 - loss: 0.4853 - val_accuracy: 0.7460 - val_loss: 0.4933\n",
      "Epoch 29/70\n",
      "\u001b[1m139/139\u001b[0m \u001b[32m━━━━━━━━━━━━━━━━━━━━\u001b[0m\u001b[37m\u001b[0m \u001b[1m24s\u001b[0m 174ms/step - accuracy: 0.7515 - loss: 0.5037 - val_accuracy: 0.7594 - val_loss: 0.4767\n",
      "Epoch 30/70\n",
      "\u001b[1m139/139\u001b[0m \u001b[32m━━━━━━━━━━━━━━━━━━━━\u001b[0m\u001b[37m\u001b[0m \u001b[1m26s\u001b[0m 183ms/step - accuracy: 0.7692 - loss: 0.4757 - val_accuracy: 0.7513 - val_loss: 0.4854\n",
      "Epoch 31/70\n",
      "\u001b[1m139/139\u001b[0m \u001b[32m━━━━━━━━━━━━━━━━━━━━\u001b[0m\u001b[37m\u001b[0m \u001b[1m25s\u001b[0m 178ms/step - accuracy: 0.7564 - loss: 0.4947 - val_accuracy: 0.7504 - val_loss: 0.4756\n",
      "Epoch 32/70\n",
      "\u001b[1m139/139\u001b[0m \u001b[32m━━━━━━━━━━━━━━━━━━━━\u001b[0m\u001b[37m\u001b[0m \u001b[1m25s\u001b[0m 177ms/step - accuracy: 0.7387 - loss: 0.5087 - val_accuracy: 0.7379 - val_loss: 0.4963\n",
      "Epoch 33/70\n",
      "\u001b[1m139/139\u001b[0m \u001b[32m━━━━━━━━━━━━━━━━━━━━\u001b[0m\u001b[37m\u001b[0m \u001b[1m24s\u001b[0m 169ms/step - accuracy: 0.7528 - loss: 0.4959 - val_accuracy: 0.7621 - val_loss: 0.4793\n",
      "Epoch 34/70\n",
      "\u001b[1m139/139\u001b[0m \u001b[32m━━━━━━━━━━━━━━━━━━━━\u001b[0m\u001b[37m\u001b[0m \u001b[1m25s\u001b[0m 178ms/step - accuracy: 0.7755 - loss: 0.4688 - val_accuracy: 0.7558 - val_loss: 0.4865\n",
      "Epoch 35/70\n",
      "\u001b[1m139/139\u001b[0m \u001b[32m━━━━━━━━━━━━━━━━━━━━\u001b[0m\u001b[37m\u001b[0m \u001b[1m25s\u001b[0m 179ms/step - accuracy: 0.7743 - loss: 0.4752 - val_accuracy: 0.7487 - val_loss: 0.4899\n",
      "Epoch 36/70\n",
      "\u001b[1m139/139\u001b[0m \u001b[32m━━━━━━━━━━━━━━━━━━━━\u001b[0m\u001b[37m\u001b[0m \u001b[1m25s\u001b[0m 176ms/step - accuracy: 0.7571 - loss: 0.4962 - val_accuracy: 0.7567 - val_loss: 0.4854\n",
      "Epoch 37/70\n",
      "\u001b[1m139/139\u001b[0m \u001b[32m━━━━━━━━━━━━━━━━━━━━\u001b[0m\u001b[37m\u001b[0m \u001b[1m26s\u001b[0m 185ms/step - accuracy: 0.7612 - loss: 0.4701 - val_accuracy: 0.7487 - val_loss: 0.5194\n",
      "Epoch 38/70\n",
      "\u001b[1m139/139\u001b[0m \u001b[32m━━━━━━━━━━━━━━━━━━━━\u001b[0m\u001b[37m\u001b[0m \u001b[1m25s\u001b[0m 182ms/step - accuracy: 0.7615 - loss: 0.4920 - val_accuracy: 0.7630 - val_loss: 0.4817\n",
      "Epoch 39/70\n",
      "\u001b[1m139/139\u001b[0m \u001b[32m━━━━━━━━━━━━━━━━━━━━\u001b[0m\u001b[37m\u001b[0m \u001b[1m23s\u001b[0m 164ms/step - accuracy: 0.7497 - loss: 0.4981 - val_accuracy: 0.7549 - val_loss: 0.5021\n",
      "Epoch 40/70\n",
      "\u001b[1m139/139\u001b[0m \u001b[32m━━━━━━━━━━━━━━━━━━━━\u001b[0m\u001b[37m\u001b[0m \u001b[1m22s\u001b[0m 157ms/step - accuracy: 0.7571 - loss: 0.4975 - val_accuracy: 0.7576 - val_loss: 0.4967\n",
      "Epoch 41/70\n",
      "\u001b[1m139/139\u001b[0m \u001b[32m━━━━━━━━━━━━━━━━━━━━\u001b[0m\u001b[37m\u001b[0m \u001b[1m22s\u001b[0m 157ms/step - accuracy: 0.7718 - loss: 0.4778 - val_accuracy: 0.7630 - val_loss: 0.4853\n",
      "Epoch 42/70\n",
      "\u001b[1m139/139\u001b[0m \u001b[32m━━━━━━━━━━━━━━━━━━━━\u001b[0m\u001b[37m\u001b[0m \u001b[1m22s\u001b[0m 156ms/step - accuracy: 0.7734 - loss: 0.4691 - val_accuracy: 0.7639 - val_loss: 0.4734\n",
      "Epoch 43/70\n",
      "\u001b[1m139/139\u001b[0m \u001b[32m━━━━━━━━━━━━━━━━━━━━\u001b[0m\u001b[37m\u001b[0m \u001b[1m22s\u001b[0m 157ms/step - accuracy: 0.7619 - loss: 0.4857 - val_accuracy: 0.7522 - val_loss: 0.4828\n",
      "Epoch 44/70\n",
      "\u001b[1m139/139\u001b[0m \u001b[32m━━━━━━━━━━━━━━━━━━━━\u001b[0m\u001b[37m\u001b[0m \u001b[1m22s\u001b[0m 158ms/step - accuracy: 0.7721 - loss: 0.4688 - val_accuracy: 0.7567 - val_loss: 0.4833\n",
      "Epoch 45/70\n",
      "\u001b[1m139/139\u001b[0m \u001b[32m━━━━━━━━━━━━━━━━━━━━\u001b[0m\u001b[37m\u001b[0m \u001b[1m24s\u001b[0m 173ms/step - accuracy: 0.7685 - loss: 0.4638 - val_accuracy: 0.7612 - val_loss: 0.4868\n",
      "Epoch 46/70\n",
      "\u001b[1m139/139\u001b[0m \u001b[32m━━━━━━━━━━━━━━━━━━━━\u001b[0m\u001b[37m\u001b[0m \u001b[1m24s\u001b[0m 170ms/step - accuracy: 0.7641 - loss: 0.4817 - val_accuracy: 0.7639 - val_loss: 0.4802\n",
      "Epoch 47/70\n",
      "\u001b[1m139/139\u001b[0m \u001b[32m━━━━━━━━━━━━━━━━━━━━\u001b[0m\u001b[37m\u001b[0m \u001b[1m23s\u001b[0m 165ms/step - accuracy: 0.7756 - loss: 0.4737 - val_accuracy: 0.7630 - val_loss: 0.4778\n",
      "Epoch 48/70\n",
      "\u001b[1m139/139\u001b[0m \u001b[32m━━━━━━━━━━━━━━━━━━━━\u001b[0m\u001b[37m\u001b[0m \u001b[1m23s\u001b[0m 163ms/step - accuracy: 0.7647 - loss: 0.4797 - val_accuracy: 0.7540 - val_loss: 0.4862\n",
      "Epoch 49/70\n",
      "\u001b[1m139/139\u001b[0m \u001b[32m━━━━━━━━━━━━━━━━━━━━\u001b[0m\u001b[37m\u001b[0m \u001b[1m23s\u001b[0m 166ms/step - accuracy: 0.7668 - loss: 0.4819 - val_accuracy: 0.7621 - val_loss: 0.4733\n",
      "Epoch 50/70\n",
      "\u001b[1m139/139\u001b[0m \u001b[32m━━━━━━━━━━━━━━━━━━━━\u001b[0m\u001b[37m\u001b[0m \u001b[1m23s\u001b[0m 162ms/step - accuracy: 0.7646 - loss: 0.4854 - val_accuracy: 0.7540 - val_loss: 0.4848\n",
      "Epoch 51/70\n",
      "\u001b[1m139/139\u001b[0m \u001b[32m━━━━━━━━━━━━━━━━━━━━\u001b[0m\u001b[37m\u001b[0m \u001b[1m24s\u001b[0m 170ms/step - accuracy: 0.7765 - loss: 0.4595 - val_accuracy: 0.7657 - val_loss: 0.4736\n",
      "Epoch 52/70\n",
      "\u001b[1m139/139\u001b[0m \u001b[32m━━━━━━━━━━━━━━━━━━━━\u001b[0m\u001b[37m\u001b[0m \u001b[1m23s\u001b[0m 162ms/step - accuracy: 0.7701 - loss: 0.4645 - val_accuracy: 0.7531 - val_loss: 0.4823\n",
      "Epoch 53/70\n",
      "\u001b[1m139/139\u001b[0m \u001b[32m━━━━━━━━━━━━━━━━━━━━\u001b[0m\u001b[37m\u001b[0m \u001b[1m23s\u001b[0m 162ms/step - accuracy: 0.7754 - loss: 0.4671 - val_accuracy: 0.7504 - val_loss: 0.4800\n",
      "Epoch 54/70\n",
      "\u001b[1m139/139\u001b[0m \u001b[32m━━━━━━━━━━━━━━━━━━━━\u001b[0m\u001b[37m\u001b[0m \u001b[1m22s\u001b[0m 161ms/step - accuracy: 0.7808 - loss: 0.4648 - val_accuracy: 0.7549 - val_loss: 0.4732\n",
      "Epoch 55/70\n",
      "\u001b[1m139/139\u001b[0m \u001b[32m━━━━━━━━━━━━━━━━━━━━\u001b[0m\u001b[37m\u001b[0m \u001b[1m22s\u001b[0m 161ms/step - accuracy: 0.7710 - loss: 0.4596 - val_accuracy: 0.7684 - val_loss: 0.4721\n",
      "Epoch 56/70\n",
      "\u001b[1m139/139\u001b[0m \u001b[32m━━━━━━━━━━━━━━━━━━━━\u001b[0m\u001b[37m\u001b[0m \u001b[1m22s\u001b[0m 159ms/step - accuracy: 0.7562 - loss: 0.4745 - val_accuracy: 0.7522 - val_loss: 0.5011\n",
      "Epoch 57/70\n",
      "\u001b[1m139/139\u001b[0m \u001b[32m━━━━━━━━━━━━━━━━━━━━\u001b[0m\u001b[37m\u001b[0m \u001b[1m22s\u001b[0m 159ms/step - accuracy: 0.7689 - loss: 0.4785 - val_accuracy: 0.7594 - val_loss: 0.4863\n",
      "Epoch 58/70\n",
      "\u001b[1m139/139\u001b[0m \u001b[32m━━━━━━━━━━━━━━━━━━━━\u001b[0m\u001b[37m\u001b[0m \u001b[1m22s\u001b[0m 159ms/step - accuracy: 0.7573 - loss: 0.4820 - val_accuracy: 0.7630 - val_loss: 0.4775\n",
      "Epoch 59/70\n",
      "\u001b[1m139/139\u001b[0m \u001b[32m━━━━━━━━━━━━━━━━━━━━\u001b[0m\u001b[37m\u001b[0m \u001b[1m23s\u001b[0m 167ms/step - accuracy: 0.7725 - loss: 0.4827 - val_accuracy: 0.7540 - val_loss: 0.4931\n",
      "Epoch 60/70\n",
      "\u001b[1m139/139\u001b[0m \u001b[32m━━━━━━━━━━━━━━━━━━━━\u001b[0m\u001b[37m\u001b[0m \u001b[1m26s\u001b[0m 183ms/step - accuracy: 0.7614 - loss: 0.4811 - val_accuracy: 0.7522 - val_loss: 0.4813\n",
      "Epoch 61/70\n",
      "\u001b[1m139/139\u001b[0m \u001b[32m━━━━━━━━━━━━━━━━━━━━\u001b[0m\u001b[37m\u001b[0m \u001b[1m23s\u001b[0m 164ms/step - accuracy: 0.7486 - loss: 0.4887 - val_accuracy: 0.7594 - val_loss: 0.4733\n",
      "Epoch 62/70\n",
      "\u001b[1m139/139\u001b[0m \u001b[32m━━━━━━━━━━━━━━━━━━━━\u001b[0m\u001b[37m\u001b[0m \u001b[1m24s\u001b[0m 173ms/step - accuracy: 0.7711 - loss: 0.4664 - val_accuracy: 0.7702 - val_loss: 0.4756\n",
      "Epoch 63/70\n",
      "\u001b[1m139/139\u001b[0m \u001b[32m━━━━━━━━━━━━━━━━━━━━\u001b[0m\u001b[37m\u001b[0m \u001b[1m24s\u001b[0m 175ms/step - accuracy: 0.7740 - loss: 0.4759 - val_accuracy: 0.7684 - val_loss: 0.4829\n",
      "Epoch 64/70\n",
      "\u001b[1m139/139\u001b[0m \u001b[32m━━━━━━━━━━━━━━━━━━━━\u001b[0m\u001b[37m\u001b[0m \u001b[1m26s\u001b[0m 189ms/step - accuracy: 0.7649 - loss: 0.4765 - val_accuracy: 0.7496 - val_loss: 0.5226\n",
      "Epoch 65/70\n",
      "\u001b[1m139/139\u001b[0m \u001b[32m━━━━━━━━━━━━━━━━━━━━\u001b[0m\u001b[37m\u001b[0m \u001b[1m25s\u001b[0m 178ms/step - accuracy: 0.7703 - loss: 0.4823 - val_accuracy: 0.7774 - val_loss: 0.4851\n",
      "Epoch 66/70\n",
      "\u001b[1m139/139\u001b[0m \u001b[32m━━━━━━━━━━━━━━━━━━━━\u001b[0m\u001b[37m\u001b[0m \u001b[1m22s\u001b[0m 159ms/step - accuracy: 0.7808 - loss: 0.4610 - val_accuracy: 0.7549 - val_loss: 0.4744\n",
      "Epoch 67/70\n",
      "\u001b[1m139/139\u001b[0m \u001b[32m━━━━━━━━━━━━━━━━━━━━\u001b[0m\u001b[37m\u001b[0m \u001b[1m22s\u001b[0m 154ms/step - accuracy: 0.7643 - loss: 0.4752 - val_accuracy: 0.7487 - val_loss: 0.4879\n",
      "Epoch 68/70\n",
      "\u001b[1m139/139\u001b[0m \u001b[32m━━━━━━━━━━━━━━━━━━━━\u001b[0m\u001b[37m\u001b[0m \u001b[1m22s\u001b[0m 158ms/step - accuracy: 0.7716 - loss: 0.4610 - val_accuracy: 0.7370 - val_loss: 0.5135\n",
      "Epoch 69/70\n",
      "\u001b[1m139/139\u001b[0m \u001b[32m━━━━━━━━━━━━━━━━━━━━\u001b[0m\u001b[37m\u001b[0m \u001b[1m22s\u001b[0m 160ms/step - accuracy: 0.7673 - loss: 0.4572 - val_accuracy: 0.7711 - val_loss: 0.4681\n",
      "Epoch 70/70\n",
      "\u001b[1m139/139\u001b[0m \u001b[32m━━━━━━━━━━━━━━━━━━━━\u001b[0m\u001b[37m\u001b[0m \u001b[1m23s\u001b[0m 162ms/step - accuracy: 0.7662 - loss: 0.4672 - val_accuracy: 0.7549 - val_loss: 0.4740\n"
     ]
    }
   ],
   "source": [
    "datagen = ImageDataGenerator(\n",
    "    rotation_range=20,       # Rango de rotación aleatoria\n",
    "    width_shift_range=0.1,   # Rango de desplazamiento horizontal\n",
    "    height_shift_range=0.1,  # Rango de desplazamiento vertical\n",
    "    shear_range=0.2,         # Rango de cizallamiento\n",
    "    zoom_range=0.2,          # Rango de zoom aleatorio\n",
    "    horizontal_flip=True,    # Volteo horizontal aleatorio\n",
    "    fill_mode='nearest'      # Estrategia de relleno\n",
    ")\n",
    "\n",
    "\n",
    "datagen.fit(X_train7)\n",
    "\n",
    "\n",
    "history_gen7 = modelo7.fit(datagen.flow(X_train7, y_train7, batch_size=32), epochs=70, validation_data=(X_test7, y_test7))"
   ]
  },
  {
   "cell_type": "code",
   "execution_count": 15,
   "metadata": {},
   "outputs": [
    {
     "name": "stdout",
     "output_type": "stream",
     "text": [
      "\u001b[1m35/35\u001b[0m \u001b[32m━━━━━━━━━━━━━━━━━━━━\u001b[0m\u001b[37m\u001b[0m \u001b[1m2s\u001b[0m 45ms/step\n",
      "Accuracy score: 0.755\n",
      "Recall score: 0.847\n",
      "AUC-ROC score: 0.857\n"
     ]
    }
   ],
   "source": [
    "from sklearn.metrics import accuracy_score,recall_score,roc_auc_score\n",
    "\n",
    "y_pred_proba7 = modelo7.predict(X_test7)\n",
    "y_pred7 = (y_pred_proba7 > 0.5).astype(int)  # Convertir probabilidades a etiquetas binarias (0 o 1)\n",
    "\n",
    "\n",
    "accuracy7 = accuracy_score(y_test7, y_pred7)\n",
    "recall7 = recall_score(y_test7, y_pred7)\n",
    "auc7 = roc_auc_score(y_test7, y_pred_proba7)  # Calcular AUC-ROC usando probabilidades\n",
    "\n",
    "\n",
    "\n",
    "print(\"Accuracy score:\", round(accuracy7, 3)) #??????\n",
    "print(\"Recall score:\", round(recall7, 3))\n",
    "print(\"AUC-ROC score:\", round(auc7, 3))"
   ]
  },
  {
   "cell_type": "code",
   "execution_count": 12,
   "metadata": {},
   "outputs": [
    {
     "data": {
      "text/plain": [
       "\"#Exportar Modelo\\nimport pickle\\n\\nwith open('final_model.pkl', 'wb') as file:\\n    pickle.dump(modelo4, file)\""
      ]
     },
     "execution_count": 12,
     "metadata": {},
     "output_type": "execute_result"
    }
   ],
   "source": [
    "'''#Exportar Modelo\n",
    "import pickle\n",
    "\n",
    "with open('trained_model_7.pkl', 'wb') as file:\n",
    "    pickle.dump(modelo4, file)'''"
   ]
  }
 ],
 "metadata": {
  "kernelspec": {
   "display_name": "Python 3",
   "language": "python",
   "name": "python3"
  },
  "language_info": {
   "codemirror_mode": {
    "name": "ipython",
    "version": 3
   },
   "file_extension": ".py",
   "mimetype": "text/x-python",
   "name": "python",
   "nbconvert_exporter": "python",
   "pygments_lexer": "ipython3",
   "version": "3.10.11"
  }
 },
 "nbformat": 4,
 "nbformat_minor": 2
}
