{
 "cells": [
  {
   "cell_type": "markdown",
   "metadata": {},
   "source": [
    "# **Fuentes**🫀 "
   ]
  },
  {
   "cell_type": "markdown",
   "metadata": {},
   "source": [
    "### 1. Data para descargar\n",
    "\n",
    "[Kaggle - Cardiomegaly Disease]('https://www.kaggle.com/datasets/rahimanshu/cardiomegaly-disease-prediction-using-cnn?select=train')"
   ]
  },
  {
   "cell_type": "markdown",
   "metadata": {},
   "source": [
    "### 2. Origen de la data\n",
    "\n",
    "[National Institutes of Health (NIH) - Website]('https://clinicalcenter.nih.gov/')\n",
    "\n",
    "[NIH - Media Coverage]('https://www-nih-gov.translate.goog/news-events/news-releases/nih-clinical-center-provides-one-largest-publicly-available-chest-x-ray-datasets-scientific-community?_x_tr_sl=en&_x_tr_tl=es&_x_tr_hl=es&_x_tr_pto=sc')"
   ]
  }
 ],
 "metadata": {
  "language_info": {
   "name": "python"
  }
 },
 "nbformat": 4,
 "nbformat_minor": 2
}
